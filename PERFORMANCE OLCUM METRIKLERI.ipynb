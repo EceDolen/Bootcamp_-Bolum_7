{
 "cells": [
  {
   "cell_type": "markdown",
   "metadata": {},
   "source": [
    "## <div align='center'> <font color= \"red\"> PERFORMANCE OLCUM METRIKLERI"
   ]
  },
  {
   "cell_type": "markdown",
   "metadata": {},
   "source": [
    "#### Bu ödevde, bir önceki derste Titanic verileri ile oluşturduğunuz modelin performansını ölçeceksiniz. Bu ödevi tamamlamak için, aşağıdaki görevlerin çözümlerini içeren bir Jupyter not defterini link olarak gönderin. Kafanıza takılan konuları mentörünüzle konuşabilir ya da ofis saatinde Slack üzerinden sorabilirsiniz.\n",
    "\n",
    "#### *Modelinizin performansına bu derste öğrendiğiniz metriklerlerle değerlendiriniz.\n",
    "##### *ROC eğrisi ve Hassasiyet/Duyarlılık Eğrisini farklı \"c\" değerleri için çizdirin."
   ]
  },
  {
   "cell_type": "code",
   "execution_count": 1,
   "metadata": {},
   "outputs": [],
   "source": [
    "import pandas as pd\n",
    "import warnings \n",
    "warnings.filterwarnings('ignore')  "
   ]
  },
  {
   "cell_type": "code",
   "execution_count": 2,
   "metadata": {
    "scrolled": true
   },
   "outputs": [],
   "source": [
    "titanic = pd.read_csv('data/titanic_data.csv')"
   ]
  },
  {
   "cell_type": "code",
   "execution_count": 3,
   "metadata": {},
   "outputs": [],
   "source": [
    "titanic['Age']= titanic['Age'].fillna(titanic['Age'].mean())\n",
    "titanic['Embarked']= titanic['Embarked'].fillna(titanic['Embarked'].mode()[0])"
   ]
  },
  {
   "cell_type": "code",
   "execution_count": 4,
   "metadata": {},
   "outputs": [],
   "source": [
    "from sklearn.model_selection import train_test_split\n",
    "from sklearn.linear_model import LogisticRegression"
   ]
  },
  {
   "cell_type": "code",
   "execution_count": 5,
   "metadata": {},
   "outputs": [],
   "source": [
    "X= titanic[['Pclass','PassengerId','Age','SibSp', 'Parch', 'Fare']]\n",
    "y= titanic.Survived\n",
    "\n",
    "X_train, X_test,y_train, y_test = train_test_split(X,y, train_size=0.2, random_state=40)"
   ]
  },
  {
   "cell_type": "code",
   "execution_count": 6,
   "metadata": {
    "scrolled": true
   },
   "outputs": [
    {
     "data": {
      "text/plain": [
       "LogisticRegression(C=1.0, class_weight=None, dual=False, fit_intercept=True,\n",
       "          intercept_scaling=1, max_iter=100, multi_class='warn',\n",
       "          n_jobs=None, penalty='l2', random_state=40, solver='warn',\n",
       "          tol=0.0001, verbose=0, warm_start=False)"
      ]
     },
     "execution_count": 6,
     "metadata": {},
     "output_type": "execute_result"
    }
   ],
   "source": [
    "survided_tahmin = LogisticRegression(random_state=40)\n",
    "survided_tahmin.fit(X_train,y_train)"
   ]
  },
  {
   "cell_type": "code",
   "execution_count": 7,
   "metadata": {},
   "outputs": [],
   "source": [
    "pred_train = survided_tahmin.predict(X_train)\n",
    "pred_test  = survided_tahmin.predict(X_test)"
   ]
  },
  {
   "cell_type": "markdown",
   "metadata": {},
   "source": [
    "### <font color='dark red'> *Modelinizin performansına bu derste öğrendiğiniz metriklerlerle değerlendiriniz."
   ]
  },
  {
   "cell_type": "markdown",
   "metadata": {},
   "source": [
    "### <font color='dark pink'> confusion_matrix"
   ]
  },
  {
   "cell_type": "code",
   "execution_count": 8,
   "metadata": {},
   "outputs": [],
   "source": [
    "from sklearn.metrics import confusion_matrix as cm"
   ]
  },
  {
   "cell_type": "code",
   "execution_count": 9,
   "metadata": {},
   "outputs": [
    {
     "name": "stdout",
     "output_type": "stream",
     "text": [
      "Hata Matrixi egitim Verileri\n",
      "----------------------------------------\n",
      "[[105  12]\n",
      " [ 41  20]]\n",
      "Hata Matrixi test Verileri\n",
      "----------------------------------------\n",
      "[[393  39]\n",
      " [200  81]]\n"
     ]
    }
   ],
   "source": [
    "confusion_matrix_train = cm(y_train,pred_train)\n",
    "confusion_matrix_test = cm(y_test,pred_test)\n",
    "\n",
    "print('Hata Matrixi egitim Verileri', '--'*20, confusion_matrix_train, sep='\\n')\n",
    "print('Hata Matrixi test Verileri', '--'*20, confusion_matrix_test, sep='\\n')"
   ]
  },
  {
   "cell_type": "code",
   "execution_count": 10,
   "metadata": {},
   "outputs": [
    {
     "name": "stdout",
     "output_type": "stream",
     "text": [
      "Doğru negatif sayısı   : 393\n",
      "Doğru pozitif sayısı   : 81\n",
      "Yanlış pozitif sayısı  : 39\n",
      "Yanlış negatif sayısı  : 200\n"
     ]
    }
   ],
   "source": [
    "TN = confusion_matrix_test[0][0]\n",
    "TP = confusion_matrix_test[1][1]\n",
    "FP = confusion_matrix_test[0][1]\n",
    "FN = confusion_matrix_test[1][0]\n",
    "\n",
    "print(\"Doğru negatif sayısı   :\", TN)\n",
    "print(\"Doğru pozitif sayısı   :\", TP)\n",
    "print(\"Yanlış pozitif sayısı  :\", FP)\n",
    "print(\"Yanlış negatif sayısı  :\", FN)"
   ]
  },
  {
   "cell_type": "code",
   "execution_count": null,
   "metadata": {},
   "outputs": [],
   "source": []
  },
  {
   "cell_type": "markdown",
   "metadata": {},
   "source": [
    "### <font color='dark pink'> Accuracy"
   ]
  },
  {
   "cell_type": "markdown",
   "metadata": {},
   "source": [
    "Doğru olarak sınıflandırılanların toplam sayıya oranına doğruluk diyoruz."
   ]
  },
  {
   "cell_type": "code",
   "execution_count": 11,
   "metadata": {},
   "outputs": [
    {
     "name": "stdout",
     "output_type": "stream",
     "text": [
      "Modelden alınan doğruluk değeri :  0.664796633941094\n",
      "Hesaplanan doğruluk değeri      :  0.664796633941094\n",
      "accuracy_score() değeri         :  0.664796633941094\n"
     ]
    }
   ],
   "source": [
    "from sklearn.metrics import accuracy_score\n",
    "\n",
    "print(\"Modelden alınan doğruluk değeri : \",  survided_tahmin.score(X_test, y_test))\n",
    "print(\"Hesaplanan doğruluk değeri      : \",  (TN + TP)/(FN + FP + TN + TP))\n",
    "print(\"accuracy_score() değeri         : \",  accuracy_score(y_test, pred_test))"
   ]
  },
  {
   "cell_type": "markdown",
   "metadata": {},
   "source": [
    "### <font color='dark pink'> Error Rate"
   ]
  },
  {
   "cell_type": "markdown",
   "metadata": {},
   "source": [
    "Yanlış sayısının toplam sayıya oranıdır. \" hataoranı=1−doğruluk \"   olarak da gösterebiliriz."
   ]
  },
  {
   "cell_type": "code",
   "execution_count": 12,
   "metadata": {},
   "outputs": [
    {
     "data": {
      "text/plain": [
       "0.33520336605890605"
      ]
     },
     "execution_count": 12,
     "metadata": {},
     "output_type": "execute_result"
    }
   ],
   "source": [
    "Error_Rate = (FN+FP)/(FN + FP + TN + TP)\n",
    "Error_Rate"
   ]
  },
  {
   "cell_type": "markdown",
   "metadata": {},
   "source": [
    "### <font color='dark pink'> Hassasiyet (Precision)"
   ]
  },
  {
   "cell_type": "markdown",
   "metadata": {},
   "source": [
    "Hassasiyet pozitif olarak tahmin edilenlerin ne kadarının gerçekten pozitif olduğunu gösterir. "
   ]
  },
  {
   "cell_type": "code",
   "execution_count": 13,
   "metadata": {},
   "outputs": [
    {
     "data": {
      "text/plain": [
       "0.675"
      ]
     },
     "execution_count": 13,
     "metadata": {},
     "output_type": "execute_result"
    }
   ],
   "source": [
    "Precision = (TP)/(FP+TP)\n",
    "Precision"
   ]
  },
  {
   "cell_type": "code",
   "execution_count": 14,
   "metadata": {},
   "outputs": [
    {
     "name": "stdout",
     "output_type": "stream",
     "text": [
      "Hesaplanan doğruluk değeri      :  0.675\n",
      "precision_score() değeri        :  0.675\n"
     ]
    }
   ],
   "source": [
    "from sklearn.metrics import precision_score\n",
    "\n",
    "print(\"Hesaplanan doğruluk değeri      : \",  (TP)/(FP + TP))\n",
    "print(\"precision_score() değeri        : \",  precision_score(y_test, pred_test))"
   ]
  },
  {
   "cell_type": "markdown",
   "metadata": {},
   "source": [
    "### <font color='dark pink'>  Duyarlılık (Recall/Sensitivity)"
   ]
  },
  {
   "cell_type": "markdown",
   "metadata": {},
   "source": [
    "Gerçekten pozitif olanların ne kadar başarılı tahmin edildiğidir. "
   ]
  },
  {
   "cell_type": "code",
   "execution_count": 15,
   "metadata": {},
   "outputs": [
    {
     "name": "stdout",
     "output_type": "stream",
     "text": [
      "Hesaplanan doğruluk değeri   :  0.28825622775800713\n",
      "recall_score() değeri        :  0.28825622775800713\n"
     ]
    }
   ],
   "source": [
    "from sklearn.metrics import recall_score\n",
    "\n",
    "print(\"Hesaplanan doğruluk değeri   : \",  (TP)/(TP + FN))\n",
    "print(\"recall_score() değeri        : \",  recall_score(y_test, pred_test))"
   ]
  },
  {
   "cell_type": "markdown",
   "metadata": {},
   "source": [
    "### <font color='dark pink'> Özgünlük (Specificity)"
   ]
  },
  {
   "cell_type": "markdown",
   "metadata": {},
   "source": [
    "Gerçekten negatif olanların ne kadar başarılı tahmin edildiğidir. Duyarlılığın zıttıdır."
   ]
  },
  {
   "cell_type": "code",
   "execution_count": 16,
   "metadata": {
    "scrolled": true
   },
   "outputs": [
    {
     "name": "stdout",
     "output_type": "stream",
     "text": [
      "Hesaplanan özgünlük değeri   :  0.9097222222222222\n"
     ]
    }
   ],
   "source": [
    "print(\"Hesaplanan özgünlük değeri   : \",  (TN)/(TN + FP))"
   ]
  },
  {
   "cell_type": "markdown",
   "metadata": {},
   "source": [
    "### <font color='dark pink'>  F1 (F1 Score)"
   ]
  },
  {
   "cell_type": "markdown",
   "metadata": {},
   "source": [
    "Hassasiyet ve Duyarlılık değerlerinin ikisine birden bakma çok pratik olmayacağından, iki metriği de içeren F1 skorunu kullanmaktayız. Bu iki değerin ortalamasını almak veri adetleri göz önüne alındığında çok doğru bir sonuç vermeyecektir. Bu yüzden F1 skoru hesaplanırken bu iki değerin harmonik ortalaması alınmaktadır. Harmonik ortalama değerlerin terslerinin ortalamasının tersidir."
   ]
  },
  {
   "cell_type": "code",
   "execution_count": 17,
   "metadata": {},
   "outputs": [
    {
     "name": "stdout",
     "output_type": "stream",
     "text": [
      "Hesaplanan f1 skoru   :  0.4039900249376559\n",
      "f1_score() değeri     :  0.4039900249376559\n"
     ]
    }
   ],
   "source": [
    "from sklearn.metrics import f1_score\n",
    "\n",
    "hassasiyet_degeri = precision_score(y_test, pred_test)\n",
    "duyarlılık_değeri = recall_score(y_test, pred_test)\n",
    "\n",
    "\n",
    "print(\"Hesaplanan f1 skoru   : \",  2*((hassasiyet_degeri*duyarlılık_değeri)/(hassasiyet_degeri + duyarlılık_değeri)))\n",
    "print(\"f1_score() değeri     : \",  f1_score(y_test, pred_test))"
   ]
  },
  {
   "cell_type": "code",
   "execution_count": 18,
   "metadata": {},
   "outputs": [
    {
     "name": "stdout",
     "output_type": "stream",
     "text": [
      "              precision    recall  f1-score   support\n",
      "\n",
      "           0       0.66      0.91      0.77       432\n",
      "           1       0.68      0.29      0.40       281\n",
      "\n",
      "   micro avg       0.66      0.66      0.66       713\n",
      "   macro avg       0.67      0.60      0.59       713\n",
      "weighted avg       0.67      0.66      0.62       713\n",
      "\n",
      "f1_score() değeri        : 0.40\n",
      "recall_score() değeri    : 0.29\n",
      "precision_score() değeri : 0.68\n",
      "\n",
      "\n",
      "Hassasiyet : [0.66273187 0.675     ]\n",
      "Duyarlılık : [0.90972222 0.28825623]\n",
      "F1 Skoru   : [0.76682927 0.40399002]\n"
     ]
    }
   ],
   "source": [
    "from sklearn.metrics import classification_report, precision_recall_fscore_support\n",
    "\n",
    "print(classification_report(y_test,pred_test) )\n",
    "\n",
    "print(\"f1_score() değeri        : {:.2f}\".format(f1_score(y_test, pred_test)))\n",
    "print(\"recall_score() değeri    : {:.2f}\".format(recall_score(y_test, pred_test)))\n",
    "print(\"precision_score() değeri : {:.2f}\".format(precision_score(y_test, pred_test)))\n",
    "\n",
    "print('\\n')\n",
    "metrikler =  precision_recall_fscore_support(y_test, pred_test)\n",
    "print(\"Hassasiyet :\" , metrikler[0]) \n",
    "print(\"Duyarlılık :\" , metrikler[1]) \n",
    "print(\"F1 Skoru   :\" , metrikler[2]) "
   ]
  },
  {
   "cell_type": "markdown",
   "metadata": {},
   "source": [
    "### <font color='dark pink'> ROC Eğrisi (ROC/AUC(Area Under Curve))"
   ]
  },
  {
   "cell_type": "markdown",
   "metadata": {},
   "source": [
    "ROC eğrisinde X eksenindeki küçük değerler düşük sayıda yanlış pozitifi ve yüksek sayıda doğru negatifi gözterirken, y eksenindeki büyük değerler yüksek sayıda doğru pozitifi ve düşük sayıda yanlış negatifi gösterir.\n",
    "Python'da ROC eğrisi için gereken değerleri (Doğru Pozitif oranı/ Yanlış Pozitif Oranı) metrics modülünde yer alan roc_curve fonksiyonu ile öğrenip çizebiliriz. AUC değerini ise yine metrics modülünden roc_auc_score fonksiyonu ile alabiririz. roc_curve fonksiyonuna parametre olarak gerçek değerleri ve predict_proba ile alınan tahmin skorunu giriyoruz."
   ]
  },
  {
   "cell_type": "code",
   "execution_count": 19,
   "metadata": {},
   "outputs": [
    {
     "data": {
      "text/plain": [
       "<Figure size 640x480 with 1 Axes>"
      ]
     },
     "metadata": {},
     "output_type": "display_data"
    }
   ],
   "source": [
    "tahmin_test_ihtimal = survided_tahmin.predict_proba(X_test)[:,1]\n",
    "\n",
    "from sklearn.metrics import roc_curve, roc_auc_score\n",
    "\n",
    "fpr, tpr, thresholds  = roc_curve(y_test, tahmin_test_ihtimal)\n",
    "\n",
    "import matplotlib.pyplot as plt\n",
    "# Plot ROC curve\n",
    "plt.plot([0, 1], [0, 1], 'k--')\n",
    "plt.plot(fpr, tpr)\n",
    "plt.xlabel('False Positive Rate')\n",
    "plt.ylabel('True Positive Rate')\n",
    "plt.title('ROC Curve')\n",
    "plt.show()"
   ]
  },
  {
   "cell_type": "code",
   "execution_count": 20,
   "metadata": {},
   "outputs": [
    {
     "name": "stdout",
     "output_type": "stream",
     "text": [
      "AUC Değeri :  0.7214890602346118\n"
     ]
    }
   ],
   "source": [
    "print('AUC Değeri : ', roc_auc_score(y_test, tahmin_test_ihtimal))"
   ]
  },
  {
   "cell_type": "code",
   "execution_count": null,
   "metadata": {},
   "outputs": [],
   "source": []
  },
  {
   "cell_type": "markdown",
   "metadata": {},
   "source": [
    "### <font color='dark pink'> Hassasiyet/Duyarlılık Eğrisi"
   ]
  },
  {
   "cell_type": "markdown",
   "metadata": {},
   "source": [
    "Hassasiyet Duyarlılık eğrisi sınıf sayılarında bir dengesizlik olduğu zaman kullanılan bir metriktir. Değişik eşik seviyeleri için hassasiyet ve duyarlılık değişimini gösterir. X ekseninde duyarlılık, y ekseninde de hassasiyet yer alır."
   ]
  },
  {
   "cell_type": "code",
   "execution_count": 21,
   "metadata": {},
   "outputs": [
    {
     "data": {
      "image/png": "[encoded data removed]",
      "text/plain": [
       "<Figure size 432x288 with 1 Axes>"
      ]
     },
     "metadata": {
      "needs_background": "light"
     },
     "output_type": "display_data"
    }
   ],
   "source": [
    "from sklearn.metrics import precision_recall_curve\n",
    "hassasiyet, duyarlılık, _ = precision_recall_curve(y_test, tahmin_test_ihtimal)\n",
    "\n",
    "plt.plot(duyarlılık, hassasiyet)\n",
    "plt.show()"
   ]
  },
  {
   "cell_type": "markdown",
   "metadata": {},
   "source": [
    "### <font color='dark pink'> Logaritmik Kayıp (Logarithmic Loss)"
   ]
  },
  {
   "cell_type": "markdown",
   "metadata": {},
   "source": [
    " Düşük log-loss değerleri daha iyi tahmin demektir. Hata oranı değerine benzemektedir. Ancak hata oranı değeri hesaplanırken gerçek değerden fark 1 ya da 0 olmakta iken, log-loss hesaplanırken gerçek değer ile tahmin ihtimali değeri dikkate alınır."
   ]
  },
  {
   "cell_type": "code",
   "execution_count": 22,
   "metadata": {},
   "outputs": [
    {
     "name": "stdout",
     "output_type": "stream",
     "text": [
      "Logartimik Kayıp (log-loss) :  0.6092898974124357\n",
      "Hata Oranı                  :  0.335203366058906\n"
     ]
    }
   ],
   "source": [
    "from sklearn.metrics import log_loss\n",
    "\n",
    "print(\"Logartimik Kayıp (log-loss) : \" , log_loss(y_test, tahmin_test_ihtimal))\n",
    "print(\"Hata Oranı                  : \" , 1- accuracy_score(y_test, pred_test))"
   ]
  },
  {
   "cell_type": "code",
   "execution_count": 23,
   "metadata": {},
   "outputs": [
    {
     "data": {
      "text/html": [
       "<div>\n",
       "<style scoped>\n",
       "    .dataframe tbody tr th:only-of-type {\n",
       "        vertical-align: middle;\n",
       "    }\n",
       "\n",
       "    .dataframe tbody tr th {\n",
       "        vertical-align: top;\n",
       "    }\n",
       "\n",
       "    .dataframe thead th {\n",
       "        text-align: right;\n",
       "    }\n",
       "</style>\n",
       "<table border=\"1\" class=\"dataframe\">\n",
       "  <thead>\n",
       "    <tr style=\"text-align: right;\">\n",
       "      <th></th>\n",
       "      <th>C Değeri</th>\n",
       "      <th>Eğitim Doğruluğu</th>\n",
       "      <th>Test Doğruluğu</th>\n",
       "    </tr>\n",
       "  </thead>\n",
       "  <tbody>\n",
       "    <tr>\n",
       "      <th>0</th>\n",
       "      <td>0.001</td>\n",
       "      <td>0.668539</td>\n",
       "      <td>0.647966</td>\n",
       "    </tr>\n",
       "    <tr>\n",
       "      <th>1</th>\n",
       "      <td>0.010</td>\n",
       "      <td>0.691011</td>\n",
       "      <td>0.661992</td>\n",
       "    </tr>\n",
       "    <tr>\n",
       "      <th>2</th>\n",
       "      <td>0.100</td>\n",
       "      <td>0.668539</td>\n",
       "      <td>0.671809</td>\n",
       "    </tr>\n",
       "    <tr>\n",
       "      <th>3</th>\n",
       "      <td>1.000</td>\n",
       "      <td>0.702247</td>\n",
       "      <td>0.664797</td>\n",
       "    </tr>\n",
       "    <tr>\n",
       "      <th>4</th>\n",
       "      <td>10.000</td>\n",
       "      <td>0.696629</td>\n",
       "      <td>0.681627</td>\n",
       "    </tr>\n",
       "    <tr>\n",
       "      <th>5</th>\n",
       "      <td>100.000</td>\n",
       "      <td>0.691011</td>\n",
       "      <td>0.683029</td>\n",
       "    </tr>\n",
       "    <tr>\n",
       "      <th>6</th>\n",
       "      <td>1000.000</td>\n",
       "      <td>0.691011</td>\n",
       "      <td>0.683029</td>\n",
       "    </tr>\n",
       "  </tbody>\n",
       "</table>\n",
       "</div>"
      ],
      "text/plain": [
       "   C Değeri  Eğitim Doğruluğu  Test Doğruluğu\n",
       "0     0.001          0.668539        0.647966\n",
       "1     0.010          0.691011        0.661992\n",
       "2     0.100          0.668539        0.671809\n",
       "3     1.000          0.702247        0.664797\n",
       "4    10.000          0.696629        0.681627\n",
       "5   100.000          0.691011        0.683029\n",
       "6  1000.000          0.691011        0.683029"
      ]
     },
     "metadata": {},
     "output_type": "display_data"
    }
   ],
   "source": [
    "C_değerleri = [0.001,0.01,0.1,1,10,100, 1000]\n",
    "dogruluk_df = pd.DataFrame(columns = ['C_Değeri','Doğruluk'])\n",
    "\n",
    "dogruluk_değerleri = pd.DataFrame(columns=['C Değeri', 'Eğitim Doğruluğu', 'Test Doğruluğu'])\n",
    "\n",
    "for c in C_değerleri:\n",
    "    \n",
    "    # Apply logistic regression model to training data\n",
    "    lr = LogisticRegression(penalty = 'l2', C = c, random_state = 0)\n",
    "    lr.fit(X_train,y_train)\n",
    "    dogruluk_değerleri = dogruluk_değerleri.append({'C Değeri': c,\n",
    "                                                    'Eğitim Doğruluğu' : lr.score(X_train, y_train),\n",
    "                                                    'Test Doğruluğu': lr.score(X_test, y_test)\n",
    "                                                    }, ignore_index=True)\n",
    "display(dogruluk_değerleri)"
   ]
  },
  {
   "cell_type": "markdown",
   "metadata": {},
   "source": [
    "Doğruluk değerlerine baktığımızda veri kümemiz için en uygun c değerinin varsayılan değer olan 10⁵ olduğunu görüyoruz. Bu degerden sora sayi ayni kaliyor.\n"
   ]
  },
  {
   "cell_type": "markdown",
   "metadata": {},
   "source": [
    "### <font color='dark red'> *ROC eğrisi ve Hassasiyet/Duyarlılık Eğrisini farklı \"c\" değerleri için çizdirin."
   ]
  },
  {
   "cell_type": "markdown",
   "metadata": {},
   "source": [
    "Lojistik regresyonda modelin performansını değiştirecek \"c\" parametresi bulunmaktadır. Bu parametre daha önce regresyon dersinde gördüğümüz \"λ değerinin tersidir.\n",
    "\n",
    "<div align =\"center\">c=1/λ"
   ]
  },
  {
   "cell_type": "code",
   "execution_count": 25,
   "metadata": {},
   "outputs": [
    {
     "data": {
      "text/plain": [
       "LogisticRegression(C=10, class_weight=None, dual=False, fit_intercept=True,\n",
       "          intercept_scaling=1, max_iter=100, multi_class='warn',\n",
       "          n_jobs=None, penalty='l2', random_state=40, solver='warn',\n",
       "          tol=0.0001, verbose=0, warm_start=False)"
      ]
     },
     "execution_count": 25,
     "metadata": {},
     "output_type": "execute_result"
    }
   ],
   "source": [
    "survided_tahmin = LogisticRegression(random_state=40, C=10 )\n",
    "survided_tahmin.fit(X_train,y_train)"
   ]
  },
  {
   "cell_type": "code",
   "execution_count": 26,
   "metadata": {},
   "outputs": [],
   "source": [
    "titanic=titanic._get_numeric_data()"
   ]
  },
  {
   "cell_type": "code",
   "execution_count": 27,
   "metadata": {},
   "outputs": [],
   "source": [
    "X= titanic.drop('Survived', axis=1)\n",
    "y= titanic.Survived\n",
    "\n",
    "X_train, X_test,y_train, y_test = train_test_split(X,y, train_size=0.2, random_state=40)"
   ]
  },
  {
   "cell_type": "code",
   "execution_count": 28,
   "metadata": {},
   "outputs": [
    {
     "data": {
      "image/png": "[encoded data removed]",
      "text/plain": [
       "<Figure size 432x288 with 1 Axes>"
      ]
     },
     "metadata": {
      "needs_background": "light"
     },
     "output_type": "display_data"
    }
   ],
   "source": [
    "tahmin_test_ihtimal = survided_tahmin.predict_proba(X_test)[:,1]\n",
    "\n",
    "fpr, tpr, thresholds  = roc_curve(y_test, tahmin_test_ihtimal)\n",
    "\n",
    "# Plot ROC curve\n",
    "plt.plot([0, 1], [0, 1], 'k--')\n",
    "plt.plot(fpr, tpr)\n",
    "plt.xlabel('False Positive Rate')\n",
    "plt.ylabel('True Positive Rate')\n",
    "plt.title('ROC Curve')\n",
    "plt.show()"
   ]
  },
  {
   "cell_type": "code",
   "execution_count": 29,
   "metadata": {},
   "outputs": [
    {
     "data": {
      "image/png": "[encoded data removed]",
      "text/plain": [
       "<Figure size 432x288 with 1 Axes>"
      ]
     },
     "metadata": {
      "needs_background": "light"
     },
     "output_type": "display_data"
    }
   ],
   "source": [
    "hassasiyet, duyarlılık, _ = precision_recall_curve(y_test, tahmin_test_ihtimal)\n",
    "\n",
    "plt.plot(duyarlılık, hassasiyet)\n",
    "plt.show()"
   ]
  },
  {
   "cell_type": "code",
   "execution_count": null,
   "metadata": {},
   "outputs": [],
   "source": []
  },
  {
   "cell_type": "code",
   "execution_count": 30,
   "metadata": {},
   "outputs": [
    {
     "data": {
      "text/plain": [
       "LogisticRegression(C=0.001, class_weight=None, dual=False, fit_intercept=True,\n",
       "          intercept_scaling=1, max_iter=100, multi_class='warn',\n",
       "          n_jobs=None, penalty='l2', random_state=40, solver='warn',\n",
       "          tol=0.0001, verbose=0, warm_start=False)"
      ]
     },
     "execution_count": 30,
     "metadata": {},
     "output_type": "execute_result"
    }
   ],
   "source": [
    "survided_tahmin = LogisticRegression(random_state=40, C= 0.001)\n",
    "survided_tahmin.fit(X_train,y_train)"
   ]
  },
  {
   "cell_type": "code",
   "execution_count": 31,
   "metadata": {},
   "outputs": [],
   "source": [
    "X= titanic.drop('Survived', axis=1)\n",
    "y= titanic.Survived\n",
    "\n",
    "X_train, X_test,y_train, y_test = train_test_split(X,y, train_size=0.2, random_state=40)"
   ]
  },
  {
   "cell_type": "code",
   "execution_count": 32,
   "metadata": {},
   "outputs": [
    {
     "data": {
      "image/png": "[encoded data removed]",
      "text/plain": [
       "<Figure size 432x288 with 1 Axes>"
      ]
     },
     "metadata": {
      "needs_background": "light"
     },
     "output_type": "display_data"
    }
   ],
   "source": [
    "tahmin_test_ihtimal = survided_tahmin.predict_proba(X_test)[:,1]\n",
    "\n",
    "fpr, tpr, thresholds  = roc_curve(y_test, tahmin_test_ihtimal)\n",
    "\n",
    "# Plot ROC curve\n",
    "plt.plot([0, 1], [0, 1], 'k--')\n",
    "plt.plot(fpr, tpr)\n",
    "plt.xlabel('False Positive Rate')\n",
    "plt.ylabel('True Positive Rate')\n",
    "plt.title('ROC Curve')\n",
    "plt.show()"
   ]
  },
  {
   "cell_type": "code",
   "execution_count": 33,
   "metadata": {},
   "outputs": [
    {
     "data": {
      "image/png": "[encoded data removed]",
      "text/plain": [
       "<Figure size 432x288 with 1 Axes>"
      ]
     },
     "metadata": {
      "needs_background": "light"
     },
     "output_type": "display_data"
    }
   ],
   "source": [
    "hassasiyet, duyarlılık, _ = precision_recall_curve(y_test, tahmin_test_ihtimal)\n",
    "\n",
    "plt.plot(duyarlılık, hassasiyet)\n",
    "plt.show()"
   ]
  },
  {
   "cell_type": "code",
   "execution_count": null,
   "metadata": {},
   "outputs": [],
   "source": []
  }
 ],
 "metadata": {
  "kernelspec": {
   "display_name": "Python 3",
   "language": "python",
   "name": "python3"
  },
  "language_info": {
   "codemirror_mode": {
    "name": "ipython",
    "version": 3
   },
   "file_extension": ".py",
   "mimetype": "text/x-python",
   "name": "python",
   "nbconvert_exporter": "python",
   "pygments_lexer": "ipython3",
   "version": "3.7.1"
  }
 },
 "nbformat": 4,
 "nbformat_minor": 2
}
