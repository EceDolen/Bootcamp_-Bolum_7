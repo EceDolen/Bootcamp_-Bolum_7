{
 "cells": [
  {
   "cell_type": "markdown",
   "metadata": {},
   "source": [
    "## <div align='center'> CAPRAZ DOGRULAMA"
   ]
  },
  {
   "cell_type": "markdown",
   "metadata": {},
   "source": [
    "##### Bu ödevde, önceki derste Titanic verileri ile oluşturduğunuz modelin performansını ölçeceksiniz. Bu ödevi tamamlamak için, aşağıdaki görevlerin çözümlerini içeren bir Jupyter not defterini link olarak gönderin. Kafanıza takılan konuları mentörünüzle konuşabilir ya da ofis saatinde Slack üzerinden sorabilirsiniz.\n",
    "\n",
    "##### Modelinizin performansı çapraz doğrulama yaparak ve farklı metrikler kullanarak değerlendirin.\n",
    "##### Hiperparemetre ayarlaması yaparak en uygun parametrelere sahip modeli belirleyin."
   ]
  },
  {
   "cell_type": "code",
   "execution_count": 1,
   "metadata": {},
   "outputs": [],
   "source": [
    "import numpy as np\n",
    "import pandas as pd\n",
    "from sklearn.model_selection import train_test_split\n",
    "\n",
    "import warnings\n",
    "warnings.filterwarnings('ignore') \n"
   ]
  },
  {
   "cell_type": "code",
   "execution_count": 2,
   "metadata": {},
   "outputs": [],
   "source": [
    "df = pd.read_csv('data/titanic_data.csv')"
   ]
  },
  {
   "cell_type": "code",
   "execution_count": 3,
   "metadata": {},
   "outputs": [
    {
     "data": {
      "text/plain": [
       "PassengerId      0\n",
       "Survived         0\n",
       "Pclass           0\n",
       "Name             0\n",
       "Sex              0\n",
       "Age            177\n",
       "SibSp            0\n",
       "Parch            0\n",
       "Ticket           0\n",
       "Fare             0\n",
       "Cabin          687\n",
       "Embarked         2\n",
       "dtype: int64"
      ]
     },
     "execution_count": 3,
     "metadata": {},
     "output_type": "execute_result"
    }
   ],
   "source": [
    "df.isnull().sum()"
   ]
  },
  {
   "cell_type": "code",
   "execution_count": 4,
   "metadata": {},
   "outputs": [],
   "source": [
    "df['Age']= df['Age'].fillna(df['Age'].mean())\n",
    "df['Embarked']= df['Embarked'].fillna(df['Embarked'].mode()[0])\n",
    "df['Cabin'] = df['Cabin'].fillna(df['Cabin'].mode()[0])"
   ]
  },
  {
   "cell_type": "code",
   "execution_count": 5,
   "metadata": {},
   "outputs": [
    {
     "data": {
      "text/plain": [
       "PassengerId    0\n",
       "Survived       0\n",
       "Pclass         0\n",
       "Name           0\n",
       "Sex            0\n",
       "Age            0\n",
       "SibSp          0\n",
       "Parch          0\n",
       "Ticket         0\n",
       "Fare           0\n",
       "Cabin          0\n",
       "Embarked       0\n",
       "dtype: int64"
      ]
     },
     "execution_count": 5,
     "metadata": {},
     "output_type": "execute_result"
    }
   ],
   "source": [
    "df.isnull().sum()"
   ]
  },
  {
   "cell_type": "code",
   "execution_count": 6,
   "metadata": {},
   "outputs": [
    {
     "name": "stdout",
     "output_type": "stream",
     "text": [
      "<class 'pandas.core.frame.DataFrame'>\n",
      "RangeIndex: 891 entries, 0 to 890\n",
      "Data columns (total 12 columns):\n",
      "PassengerId    891 non-null int64\n",
      "Survived       891 non-null int64\n",
      "Pclass         891 non-null int64\n",
      "Name           891 non-null object\n",
      "Sex            891 non-null object\n",
      "Age            891 non-null float64\n",
      "SibSp          891 non-null int64\n",
      "Parch          891 non-null int64\n",
      "Ticket         891 non-null object\n",
      "Fare           891 non-null float64\n",
      "Cabin          891 non-null object\n",
      "Embarked       891 non-null object\n",
      "dtypes: float64(2), int64(5), object(5)\n",
      "memory usage: 83.6+ KB\n"
     ]
    }
   ],
   "source": [
    "df.info()"
   ]
  },
  {
   "cell_type": "code",
   "execution_count": 7,
   "metadata": {},
   "outputs": [
    {
     "data": {
      "text/plain": [
       "array(['male', 'female'], dtype=object)"
      ]
     },
     "execution_count": 7,
     "metadata": {},
     "output_type": "execute_result"
    }
   ],
   "source": [
    "df.Sex.unique()"
   ]
  },
  {
   "cell_type": "code",
   "execution_count": 8,
   "metadata": {},
   "outputs": [],
   "source": [
    "df.Sex = df.Sex.map({'male':0, 'female':1})"
   ]
  },
  {
   "cell_type": "code",
   "execution_count": 9,
   "metadata": {},
   "outputs": [],
   "source": [
    "df['Title'] = df['Name'].str.extract(' ([A-Za-z]+)\\.', expand=False)"
   ]
  },
  {
   "cell_type": "code",
   "execution_count": 10,
   "metadata": {},
   "outputs": [
    {
     "data": {
      "text/plain": [
       "array(['Mr', 'Mrs', 'Miss', 'Master', 'Don', 'Rev', 'Dr', 'Mme', 'Ms',\n",
       "       'Major', 'Lady', 'Sir', 'Mlle', 'Col', 'Capt', 'Countess',\n",
       "       'Jonkheer'], dtype=object)"
      ]
     },
     "execution_count": 10,
     "metadata": {},
     "output_type": "execute_result"
    }
   ],
   "source": [
    "df.Title.unique()"
   ]
  },
  {
   "cell_type": "code",
   "execution_count": 11,
   "metadata": {},
   "outputs": [],
   "source": [
    "df['Title'] = df.Title.map({'Mr':0, 'Mrs':1, 'Miss':2, 'Master':3, 'Dr':4,\n",
    "                            'Ms':5, 'Major':6, 'Lady':7, 'Sir':8, 'Don':9,\n",
    "                            'Rev':10, 'Mme':11, 'Mlle':12, 'Col':13, 'Capt':14,\n",
    "                            'Countess':15, 'Jonkheer':16})"
   ]
  },
  {
   "cell_type": "code",
   "execution_count": 12,
   "metadata": {},
   "outputs": [
    {
     "data": {
      "text/html": [
       "<div>\n",
       "<style scoped>\n",
       "    .dataframe tbody tr th:only-of-type {\n",
       "        vertical-align: middle;\n",
       "    }\n",
       "\n",
       "    .dataframe tbody tr th {\n",
       "        vertical-align: top;\n",
       "    }\n",
       "\n",
       "    .dataframe thead th {\n",
       "        text-align: right;\n",
       "    }\n",
       "</style>\n",
       "<table border=\"1\" class=\"dataframe\">\n",
       "  <thead>\n",
       "    <tr style=\"text-align: right;\">\n",
       "      <th></th>\n",
       "      <th>PassengerId</th>\n",
       "      <th>Survived</th>\n",
       "      <th>Pclass</th>\n",
       "      <th>Name</th>\n",
       "      <th>Sex</th>\n",
       "      <th>Age</th>\n",
       "      <th>SibSp</th>\n",
       "      <th>Parch</th>\n",
       "      <th>Ticket</th>\n",
       "      <th>Fare</th>\n",
       "      <th>Cabin</th>\n",
       "      <th>Embarked</th>\n",
       "      <th>Title</th>\n",
       "    </tr>\n",
       "  </thead>\n",
       "  <tbody>\n",
       "    <tr>\n",
       "      <th>0</th>\n",
       "      <td>1</td>\n",
       "      <td>0</td>\n",
       "      <td>3</td>\n",
       "      <td>Braund, Mr. Owen Harris</td>\n",
       "      <td>0</td>\n",
       "      <td>22.0</td>\n",
       "      <td>1</td>\n",
       "      <td>0</td>\n",
       "      <td>A/5 21171</td>\n",
       "      <td>7.2500</td>\n",
       "      <td>B96 B98</td>\n",
       "      <td>S</td>\n",
       "      <td>0</td>\n",
       "    </tr>\n",
       "    <tr>\n",
       "      <th>1</th>\n",
       "      <td>2</td>\n",
       "      <td>1</td>\n",
       "      <td>1</td>\n",
       "      <td>Cumings, Mrs. John Bradley (Florence Briggs Th...</td>\n",
       "      <td>1</td>\n",
       "      <td>38.0</td>\n",
       "      <td>1</td>\n",
       "      <td>0</td>\n",
       "      <td>PC 17599</td>\n",
       "      <td>71.2833</td>\n",
       "      <td>C85</td>\n",
       "      <td>C</td>\n",
       "      <td>1</td>\n",
       "    </tr>\n",
       "    <tr>\n",
       "      <th>2</th>\n",
       "      <td>3</td>\n",
       "      <td>1</td>\n",
       "      <td>3</td>\n",
       "      <td>Heikkinen, Miss. Laina</td>\n",
       "      <td>1</td>\n",
       "      <td>26.0</td>\n",
       "      <td>0</td>\n",
       "      <td>0</td>\n",
       "      <td>STON/O2. 3101282</td>\n",
       "      <td>7.9250</td>\n",
       "      <td>B96 B98</td>\n",
       "      <td>S</td>\n",
       "      <td>2</td>\n",
       "    </tr>\n",
       "    <tr>\n",
       "      <th>3</th>\n",
       "      <td>4</td>\n",
       "      <td>1</td>\n",
       "      <td>1</td>\n",
       "      <td>Futrelle, Mrs. Jacques Heath (Lily May Peel)</td>\n",
       "      <td>1</td>\n",
       "      <td>35.0</td>\n",
       "      <td>1</td>\n",
       "      <td>0</td>\n",
       "      <td>113803</td>\n",
       "      <td>53.1000</td>\n",
       "      <td>C123</td>\n",
       "      <td>S</td>\n",
       "      <td>1</td>\n",
       "    </tr>\n",
       "    <tr>\n",
       "      <th>4</th>\n",
       "      <td>5</td>\n",
       "      <td>0</td>\n",
       "      <td>3</td>\n",
       "      <td>Allen, Mr. William Henry</td>\n",
       "      <td>0</td>\n",
       "      <td>35.0</td>\n",
       "      <td>0</td>\n",
       "      <td>0</td>\n",
       "      <td>373450</td>\n",
       "      <td>8.0500</td>\n",
       "      <td>B96 B98</td>\n",
       "      <td>S</td>\n",
       "      <td>0</td>\n",
       "    </tr>\n",
       "  </tbody>\n",
       "</table>\n",
       "</div>"
      ],
      "text/plain": [
       "   PassengerId  Survived  Pclass  \\\n",
       "0            1         0       3   \n",
       "1            2         1       1   \n",
       "2            3         1       3   \n",
       "3            4         1       1   \n",
       "4            5         0       3   \n",
       "\n",
       "                                                Name  Sex   Age  SibSp  Parch  \\\n",
       "0                            Braund, Mr. Owen Harris    0  22.0      1      0   \n",
       "1  Cumings, Mrs. John Bradley (Florence Briggs Th...    1  38.0      1      0   \n",
       "2                             Heikkinen, Miss. Laina    1  26.0      0      0   \n",
       "3       Futrelle, Mrs. Jacques Heath (Lily May Peel)    1  35.0      1      0   \n",
       "4                           Allen, Mr. William Henry    0  35.0      0      0   \n",
       "\n",
       "             Ticket     Fare    Cabin Embarked  Title  \n",
       "0         A/5 21171   7.2500  B96 B98        S      0  \n",
       "1          PC 17599  71.2833      C85        C      1  \n",
       "2  STON/O2. 3101282   7.9250  B96 B98        S      2  \n",
       "3            113803  53.1000     C123        S      1  \n",
       "4            373450   8.0500  B96 B98        S      0  "
      ]
     },
     "execution_count": 12,
     "metadata": {},
     "output_type": "execute_result"
    }
   ],
   "source": [
    "df.head()"
   ]
  },
  {
   "cell_type": "code",
   "execution_count": 13,
   "metadata": {},
   "outputs": [
    {
     "data": {
      "text/html": [
       "<div>\n",
       "<style scoped>\n",
       "    .dataframe tbody tr th:only-of-type {\n",
       "        vertical-align: middle;\n",
       "    }\n",
       "\n",
       "    .dataframe tbody tr th {\n",
       "        vertical-align: top;\n",
       "    }\n",
       "\n",
       "    .dataframe thead th {\n",
       "        text-align: right;\n",
       "    }\n",
       "</style>\n",
       "<table border=\"1\" class=\"dataframe\">\n",
       "  <thead>\n",
       "    <tr style=\"text-align: right;\">\n",
       "      <th></th>\n",
       "      <th>PassengerId</th>\n",
       "      <th>Survived</th>\n",
       "      <th>Pclass</th>\n",
       "      <th>Sex</th>\n",
       "      <th>Age</th>\n",
       "      <th>SibSp</th>\n",
       "      <th>Parch</th>\n",
       "      <th>Fare</th>\n",
       "      <th>Title</th>\n",
       "    </tr>\n",
       "  </thead>\n",
       "  <tbody>\n",
       "    <tr>\n",
       "      <th>PassengerId</th>\n",
       "      <td>1.000000</td>\n",
       "      <td>-0.005007</td>\n",
       "      <td>-0.035144</td>\n",
       "      <td>-0.042939</td>\n",
       "      <td>0.033207</td>\n",
       "      <td>-0.057527</td>\n",
       "      <td>-0.001652</td>\n",
       "      <td>0.012658</td>\n",
       "      <td>0.032193</td>\n",
       "    </tr>\n",
       "    <tr>\n",
       "      <th>Survived</th>\n",
       "      <td>-0.005007</td>\n",
       "      <td>1.000000</td>\n",
       "      <td>-0.338481</td>\n",
       "      <td>0.543351</td>\n",
       "      <td>-0.069809</td>\n",
       "      <td>-0.035322</td>\n",
       "      <td>0.081629</td>\n",
       "      <td>0.257307</td>\n",
       "      <td>0.257266</td>\n",
       "    </tr>\n",
       "    <tr>\n",
       "      <th>Pclass</th>\n",
       "      <td>-0.035144</td>\n",
       "      <td>-0.338481</td>\n",
       "      <td>1.000000</td>\n",
       "      <td>-0.131900</td>\n",
       "      <td>-0.331339</td>\n",
       "      <td>0.083081</td>\n",
       "      <td>0.018443</td>\n",
       "      <td>-0.549500</td>\n",
       "      <td>-0.177150</td>\n",
       "    </tr>\n",
       "    <tr>\n",
       "      <th>Sex</th>\n",
       "      <td>-0.042939</td>\n",
       "      <td>0.543351</td>\n",
       "      <td>-0.131900</td>\n",
       "      <td>1.000000</td>\n",
       "      <td>-0.084153</td>\n",
       "      <td>0.114631</td>\n",
       "      <td>0.245489</td>\n",
       "      <td>0.182333</td>\n",
       "      <td>0.338900</td>\n",
       "    </tr>\n",
       "    <tr>\n",
       "      <th>Age</th>\n",
       "      <td>0.033207</td>\n",
       "      <td>-0.069809</td>\n",
       "      <td>-0.331339</td>\n",
       "      <td>-0.084153</td>\n",
       "      <td>1.000000</td>\n",
       "      <td>-0.232625</td>\n",
       "      <td>-0.179191</td>\n",
       "      <td>0.091566</td>\n",
       "      <td>-0.066736</td>\n",
       "    </tr>\n",
       "    <tr>\n",
       "      <th>SibSp</th>\n",
       "      <td>-0.057527</td>\n",
       "      <td>-0.035322</td>\n",
       "      <td>0.083081</td>\n",
       "      <td>0.114631</td>\n",
       "      <td>-0.232625</td>\n",
       "      <td>1.000000</td>\n",
       "      <td>0.414838</td>\n",
       "      <td>0.159651</td>\n",
       "      <td>0.134931</td>\n",
       "    </tr>\n",
       "    <tr>\n",
       "      <th>Parch</th>\n",
       "      <td>-0.001652</td>\n",
       "      <td>0.081629</td>\n",
       "      <td>0.018443</td>\n",
       "      <td>0.245489</td>\n",
       "      <td>-0.179191</td>\n",
       "      <td>0.414838</td>\n",
       "      <td>1.000000</td>\n",
       "      <td>0.216225</td>\n",
       "      <td>0.133374</td>\n",
       "    </tr>\n",
       "    <tr>\n",
       "      <th>Fare</th>\n",
       "      <td>0.012658</td>\n",
       "      <td>0.257307</td>\n",
       "      <td>-0.549500</td>\n",
       "      <td>0.182333</td>\n",
       "      <td>0.091566</td>\n",
       "      <td>0.159651</td>\n",
       "      <td>0.216225</td>\n",
       "      <td>1.000000</td>\n",
       "      <td>0.097704</td>\n",
       "    </tr>\n",
       "    <tr>\n",
       "      <th>Title</th>\n",
       "      <td>0.032193</td>\n",
       "      <td>0.257266</td>\n",
       "      <td>-0.177150</td>\n",
       "      <td>0.338900</td>\n",
       "      <td>-0.066736</td>\n",
       "      <td>0.134931</td>\n",
       "      <td>0.133374</td>\n",
       "      <td>0.097704</td>\n",
       "      <td>1.000000</td>\n",
       "    </tr>\n",
       "  </tbody>\n",
       "</table>\n",
       "</div>"
      ],
      "text/plain": [
       "             PassengerId  Survived    Pclass       Sex       Age     SibSp  \\\n",
       "PassengerId     1.000000 -0.005007 -0.035144 -0.042939  0.033207 -0.057527   \n",
       "Survived       -0.005007  1.000000 -0.338481  0.543351 -0.069809 -0.035322   \n",
       "Pclass         -0.035144 -0.338481  1.000000 -0.131900 -0.331339  0.083081   \n",
       "Sex            -0.042939  0.543351 -0.131900  1.000000 -0.084153  0.114631   \n",
       "Age             0.033207 -0.069809 -0.331339 -0.084153  1.000000 -0.232625   \n",
       "SibSp          -0.057527 -0.035322  0.083081  0.114631 -0.232625  1.000000   \n",
       "Parch          -0.001652  0.081629  0.018443  0.245489 -0.179191  0.414838   \n",
       "Fare            0.012658  0.257307 -0.549500  0.182333  0.091566  0.159651   \n",
       "Title           0.032193  0.257266 -0.177150  0.338900 -0.066736  0.134931   \n",
       "\n",
       "                Parch      Fare     Title  \n",
       "PassengerId -0.001652  0.012658  0.032193  \n",
       "Survived     0.081629  0.257307  0.257266  \n",
       "Pclass       0.018443 -0.549500 -0.177150  \n",
       "Sex          0.245489  0.182333  0.338900  \n",
       "Age         -0.179191  0.091566 -0.066736  \n",
       "SibSp        0.414838  0.159651  0.134931  \n",
       "Parch        1.000000  0.216225  0.133374  \n",
       "Fare         0.216225  1.000000  0.097704  \n",
       "Title        0.133374  0.097704  1.000000  "
      ]
     },
     "execution_count": 13,
     "metadata": {},
     "output_type": "execute_result"
    }
   ],
   "source": [
    "corr_matrix= df.corr()\n",
    "corr_matrix"
   ]
  },
  {
   "cell_type": "code",
   "execution_count": 14,
   "metadata": {},
   "outputs": [
    {
     "data": {
      "text/plain": [
       "Index(['Sex', 'Pclass', 'Fare', 'Title', 'Parch', 'Age', 'SibSp',\n",
       "       'PassengerId'],\n",
       "      dtype='object')"
      ]
     },
     "execution_count": 14,
     "metadata": {},
     "output_type": "execute_result"
    }
   ],
   "source": [
    "corr_list = corr_matrix.Survived.abs().sort_values(ascending=False).index[1:]\n",
    "corr_list"
   ]
  },
  {
   "cell_type": "code",
   "execution_count": 15,
   "metadata": {},
   "outputs": [
    {
     "name": "stdout",
     "output_type": "stream",
     "text": [
      "891 891\n",
      "............................................................\n",
      "Veri kümesinde 891 satır veri bulunmakta...\n"
     ]
    }
   ],
   "source": [
    "X = df[corr_list]\n",
    "y = df.Survived\n",
    "\n",
    "print(len(X), len(y))\n",
    "print('......'*10)\n",
    "print(\"Veri kümesinde {} satır veri bulunmakta...\".format(len(X)))"
   ]
  },
  {
   "cell_type": "code",
   "execution_count": 22,
   "metadata": {},
   "outputs": [
    {
     "data": {
      "image/png": "[encoded data removed]",
      "text/plain": [
       "<Figure size 432x288 with 1 Axes>"
      ]
     },
     "metadata": {
      "needs_background": "light"
     },
     "output_type": "display_data"
    }
   ],
   "source": [
    "import seaborn as sns\n",
    "\n",
    "\n",
    "ax = sns.swarmplot(x=\"Sex\", y=\"Age\", hue= \"Survived\", data=df, dodge=True)"
   ]
  },
  {
   "cell_type": "code",
   "execution_count": 29,
   "metadata": {
    "scrolled": false
   },
   "outputs": [
    {
     "data": {
      "image/png": "[encoded data removed]",
      "text/plain": [
       "<Figure size 720x360 with 1 Axes>"
      ]
     },
     "metadata": {},
     "output_type": "display_data"
    }
   ],
   "source": [
    "from matplotlib import  pyplot as plt\n",
    "\n",
    "plt.figure(figsize= (10,5))\n",
    "\n",
    "ax = sns.swarmplot(x=\"Title\", y=\"Age\", hue= \"Survived\", data=df, dodge=True)\n",
    "\n",
    "\n",
    "#'Mr':0, 'Mrs':1, 'Miss':2, 'Master':3, 'Dr':4,\n",
    "#'Ms':5, 'Major':6, 'Lady':7, 'Sir':8, 'Don':9,\n",
    "#'Rev':10, 'Mme':11, 'Mlle':12, 'Col':13, 'Capt':14,\n",
    "#'Countess':15, 'Jonkheer':16"
   ]
  },
  {
   "cell_type": "markdown",
   "metadata": {},
   "source": [
    "## 1.1. Verileri eğitim ve test kümesi olarak ayırma"
   ]
  },
  {
   "cell_type": "code",
   "execution_count": 30,
   "metadata": {},
   "outputs": [
    {
     "name": "stdout",
     "output_type": "stream",
     "text": [
      "Eğitim veri kümesindeki satır sayısı :  712 \n",
      "Eğitim veri kümesindeki hedef sayısı :  712 \n",
      "Test veri kümesindeki satır sayısı :  179 \n",
      "Test veri kümesindeki hedef sayısı :  179 \n"
     ]
    }
   ],
   "source": [
    "plt.style.use('fivethirtyeight')\n",
    "\n",
    "X_egitim, X_test, y_egitim, y_test = train_test_split(X, y, test_size=0.2)\n",
    "print(\"Eğitim veri kümesindeki satır sayısı :  {} \".format(len(X_egitim)))\n",
    "print(\"Eğitim veri kümesindeki hedef sayısı :  {} \".format(len(y_egitim)))\n",
    "print(\"Test veri kümesindeki satır sayısı :  {} \".format(len(X_test)))\n",
    "print(\"Test veri kümesindeki hedef sayısı :  {} \".format(len(y_test)))"
   ]
  },
  {
   "cell_type": "code",
   "execution_count": 31,
   "metadata": {},
   "outputs": [
    {
     "data": {
      "image/png": "[encoded data removed]",
      "text/plain": [
       "<Figure size 1080x360 with 3 Axes>"
      ]
     },
     "metadata": {},
     "output_type": "display_data"
    },
    {
     "name": "stdout",
     "output_type": "stream",
     "text": [
      "Tüm veri kümesi '0' yüzdesi : %62 \n",
      "Test verisi '0' yüzdesi     : %61 \n",
      "Eğitim verisi '0' yüzdesi   : %62 \n"
     ]
    }
   ],
   "source": [
    "plt.figure(figsize=(15,5))\n",
    "\n",
    "plt.subplot(131)\n",
    "sns.countplot(y)\n",
    "plt.title(\"Tüm veriler\")\n",
    "\n",
    "plt.subplot(132)\n",
    "sns.countplot(y_egitim)\n",
    "plt.title(\"Eğitim veri kümesi\")\n",
    "\n",
    "plt.subplot(133)\n",
    "sns.countplot(y_test)\n",
    "plt.title(\"Test kümesi\")\n",
    "\n",
    "plt.show()\n",
    "\n",
    "print(\"Tüm veri kümesi '0' yüzdesi : %{:.0f} \".format(len(y[y==0])/len(y)*100))\n",
    "print(\"Test verisi '0' yüzdesi     : %{:.0f} \".format(len(y_test[y_test==0])/len(y_test)*100))\n",
    "print(\"Eğitim verisi '0' yüzdesi   : %{:.0f} \".format(len(y_egitim[y_egitim==0])/len(y_egitim)*100))"
   ]
  },
  {
   "cell_type": "markdown",
   "metadata": {},
   "source": [
    "#### <font color='light blue'>Tüm veri kümesinde hedef sınıflar eşit olarak dağılmasına rağmen test ve eğitim kümesinde bu oranın korunmadığını görüyoruz. Bunun üstesinden verileri ayrırken stratify=y olarak belirtirek gelebiliriz. Böylece verilerimiz y içerisindeki değerleri mümkün olduğunca eşit olarak dağıtılacak şekilde eğitim ve test kümesi olarak ayrılacaktır."
   ]
  },
  {
   "cell_type": "code",
   "execution_count": 32,
   "metadata": {},
   "outputs": [
    {
     "name": "stdout",
     "output_type": "stream",
     "text": [
      "Tüm veri kümesi '0' yüzdesi : %62 \n",
      "Test verisi '0' yüzdesi     : %61 \n",
      "Eğitim verisi '0' yüzdesi   : %62 \n"
     ]
    }
   ],
   "source": [
    "X_egitim, X_test, y_egitim, y_test = train_test_split(X, y, test_size=0.2, stratify=y)\n",
    "\n",
    "print(\"Tüm veri kümesi '0' yüzdesi : %{:.0f} \".format(len(y[y==0])/len(y)*100))\n",
    "print(\"Test verisi '0' yüzdesi     : %{:.0f} \".format(len(y_test[y_test==0])/len(y_test)*100))\n",
    "print(\"Eğitim verisi '0' yüzdesi   : %{:.0f} \".format(len(y_egitim[y_egitim==0])/len(y_egitim)*100))"
   ]
  },
  {
   "cell_type": "code",
   "execution_count": 33,
   "metadata": {},
   "outputs": [
    {
     "data": {
      "text/plain": [
       "0.7932960893854749"
      ]
     },
     "execution_count": 33,
     "metadata": {},
     "output_type": "execute_result"
    }
   ],
   "source": [
    "from sklearn.linear_model import LogisticRegression\n",
    "\n",
    "\n",
    "model = LogisticRegression()\n",
    "model.fit(X_egitim, y_egitim)\n",
    "tahmin_eğitim = model.predict(X_egitim)\n",
    "tahmin_test = model.predict(X_test)\n",
    "model.score(X_test, y_test)"
   ]
  },
  {
   "cell_type": "markdown",
   "metadata": {},
   "source": [
    "#### <font color='light blue'> Verilerimizi y değerleri eşit dağılacak şekilde ayırdık ve modelimizi eğittik. Ancak X değerlerinin nasıl dağıldığını bilmiyoruz. İşte bunun için çapraz doğrulamaya ihtiyaç duyacağız."
   ]
  },
  {
   "cell_type": "markdown",
   "metadata": {},
   "source": [
    "### 1.2. K-Katlı Çapraz Doğrulama (K-Fold Cross Validation)"
   ]
  },
  {
   "cell_type": "markdown",
   "metadata": {},
   "source": [
    "#### <font color='gray'> Test kümesini rastgele belirlediğimizden, modelimiz hiç görmediği değerler için tahmin yapmaya çalışacak ve doğal olarak başarısı düşük olacaktır. Bu durumla daha çok kategorik değişkenlerde karşılaşma ihtimalimiz daha fazla olacaktır. Veri kümesinde çok az sayıda olan kategorinin tamamı test kümesine denk gelmesi bizi bu problemle karşı karşıya bırakacaktır.\n",
    "\n",
    "#### <font color='gray'>Test kümesinde önemli verileri bırakmamak için K-katlı çapraz doğrulama yöntemini kullanacağız. Bu yöntemde verimizi belirleyeceğimiz adete (K) bölecek ve bir parçasını test için ayıracak, kalan 4 parça ile modeli eğiteceğiz. Her defasında test için seçilen kısım değişecek ve model toplamda K defa eğitilecektir. Her eğitim sonundaki modelin performans değerlerinin ortalaması modelimizin performansını verecektir.\n",
    "\n",
    "#### <font color='gray'> Bu yöntemle eğitimde ya da test aşamasına dahil edilmemiş veri kalmamaktadır.\n",
    "\n"
   ]
  },
  {
   "cell_type": "markdown",
   "metadata": {},
   "source": [
    "### 1.2.1 KFold ile çapraz doğrulama"
   ]
  },
  {
   "cell_type": "code",
   "execution_count": 34,
   "metadata": {},
   "outputs": [],
   "source": [
    "from sklearn.model_selection import KFold\n",
    "kf = KFold(n_splits=5, shuffle=True, random_state=20)\n",
    "\n",
    "\n",
    "#split() fonksiyonu veriyi henüz bölmedi, bölebilmek için indeks numaralarını ortaya çıkardı. \n",
    "#Bu indeksleri kullanarak farklı şekilde bölünmüş eğitim ve test kümelerine ulaşabiliriz."
   ]
  },
  {
   "cell_type": "code",
   "execution_count": 35,
   "metadata": {},
   "outputs": [
    {
     "name": "stdout",
     "output_type": "stream",
     "text": [
      "1.Eğitim Kümesi Boyutu : 712\n",
      "1.Test Kümesi Boyutu   : 179\n",
      "----------------------------\n",
      "2.Eğitim Kümesi Boyutu : 713\n",
      "2.Test Kümesi Boyutu   : 178\n",
      "----------------------------\n",
      "3.Eğitim Kümesi Boyutu : 713\n",
      "3.Test Kümesi Boyutu   : 178\n",
      "----------------------------\n",
      "4.Eğitim Kümesi Boyutu : 713\n",
      "4.Test Kümesi Boyutu   : 178\n",
      "----------------------------\n",
      "5.Eğitim Kümesi Boyutu : 713\n",
      "5.Test Kümesi Boyutu   : 178\n",
      "----------------------------\n"
     ]
    }
   ],
   "source": [
    "parcalar = kf.split(X)\n",
    "for num, (egitim_indeks, test_index) in enumerate(parcalar):\n",
    "    print(\"{}.Eğitim Kümesi Boyutu : {}\".format(num+1,len(egitim_indeks)))\n",
    "    print(\"{}.Test Kümesi Boyutu   : {}\".format(num+1,len(test_index)))\n",
    "    print('-'*28)"
   ]
  },
  {
   "cell_type": "code",
   "execution_count": 36,
   "metadata": {},
   "outputs": [
    {
     "ename": "KeyError",
     "evalue": "'[  0   1   2   3   4   5   6  11  12  15  16  17  19  21  22  23  24  25\\n  26  27  28  29  30  31  33  35  37  38  39  40  41  42  43  44  45  47\\n  48  49  50  51  52  53  54  55  57  60  61  63  64  65  66  67  68  69\\n  70  71  72  73  74  75  76  77  78  79  81  82  83  84  85  86  87  88\\n  91  93  95  96  97  98  99 100 101 102 103 104 105 107 108 109 110 111\\n 112 113 114 115 117 118 121 122 123 124 125 126 129 130 131 132 133 134\\n 135 136 137 138 139 140 141 142 144 145 146 148 149 151 152 153 154 155\\n 157 158 159 160 161 162 163 164 165 166 167 168 169 170 171 174 176 177\\n 178 179 181 183 184 185 186 187 188 190 192 193 194 196 198 199 200 201\\n 203 205 207 208 209 210 212 213 215 217 218 219 220 221 222 223 224 225\\n 227 228 229 230 231 232 233 234 235 236 237 238 239 240 241 242 243 244\\n 245 246 247 248 249 251 252 253 254 255 256 257 258 259 260 261 262 263\\n 264 265 267 268 270 271 272 273 274 275 276 277 278 280 281 282 283 284\\n 285 286 287 288 289 290 291 292 293 294 295 297 298 299 300 301 302 303\\n 304 305 306 309 310 313 314 315 316 318 321 322 323 324 326 327 329 330\\n 331 332 334 335 336 339 341 343 345 349 351 352 353 355 356 359 360 361\\n 362 363 367 368 369 371 372 374 375 376 378 379 380 381 382 384 385 386\\n 388 390 393 396 397 398 399 400 401 402 403 404 405 406 407 408 409 410\\n 411 413 414 415 416 417 418 419 420 423 425 426 427 429 430 432 433 434\\n 435 436 437 439 441 442 443 444 447 448 449 450 451 454 455 456 458 459\\n 460 461 462 463 464 465 466 467 468 469 470 473 474 475 477 478 479 480\\n 483 485 486 490 491 492 493 494 496 497 498 500 501 502 503 504 505 507\\n 508 509 510 511 512 513 514 515 516 517 518 519 520 523 524 526 527 529\\n 530 531 533 534 535 536 537 538 539 540 541 543 545 546 548 549 550 551\\n 552 554 555 556 557 558 559 562 564 565 566 567 568 569 570 571 572 573\\n 574 576 577 578 579 581 582 583 584 585 587 588 589 590 591 593 594 595\\n 596 597 599 600 601 603 604 605 606 608 609 610 611 612 613 615 616 617\\n 618 620 621 622 623 624 625 626 627 628 629 630 631 632 633 634 635 637\\n 638 639 642 643 644 645 646 648 649 650 651 653 654 655 656 657 658 659\\n 660 661 662 663 664 665 666 667 668 670 672 673 675 676 677 678 680 681\\n 682 683 684 685 686 687 688 689 690 691 692 693 696 697 698 699 700 701\\n 702 703 704 705 706 707 708 709 712 713 714 715 716 717 718 719 720 722\\n 723 724 725 726 727 728 729 732 735 736 737 740 741 742 743 744 745 746\\n 747 749 750 751 752 754 755 756 757 758 759 760 761 763 764 765 766 770\\n 771 772 773 774 775 777 778 781 782 784 785 786 787 788 789 790 792 793\\n 794 795 796 797 798 799 800 802 803 804 805 806 807 808 809 810 811 812\\n 813 814 815 816 817 818 820 822 823 824 825 827 829 830 831 832 833 837\\n 838 839 840 841 842 843 844 846 847 848 849 850 851 852 853 854 855 857\\n 858 859 860 861 862 863 864 865 866 867 868 869 871 872 873 874 875 876\\n 877 879 880 882 883 885 886 887 888 889] not in index'",
     "output_type": "error",
     "traceback": [
      "\u001b[1;31m---------------------------------------------------------------------------\u001b[0m",
      "\u001b[1;31mKeyError\u001b[0m                                  Traceback (most recent call last)",
      "\u001b[1;32m<ipython-input-36-3ac31fe8ca29>\u001b[0m in \u001b[0;36m<module>\u001b[1;34m\u001b[0m\n\u001b[0;32m      7\u001b[0m \u001b[1;33m\u001b[0m\u001b[0m\n\u001b[0;32m      8\u001b[0m \u001b[1;32mfor\u001b[0m \u001b[0mi\u001b[0m\u001b[1;33m,\u001b[0m \u001b[1;33m(\u001b[0m\u001b[0megitim_indeks\u001b[0m\u001b[1;33m,\u001b[0m \u001b[0mtest_indeks\u001b[0m\u001b[1;33m)\u001b[0m \u001b[1;32min\u001b[0m \u001b[0menumerate\u001b[0m\u001b[1;33m(\u001b[0m\u001b[0mparcalar\u001b[0m\u001b[1;33m)\u001b[0m\u001b[1;33m:\u001b[0m\u001b[1;33m\u001b[0m\u001b[1;33m\u001b[0m\u001b[0m\n\u001b[1;32m----> 9\u001b[1;33m     \u001b[0mX_egitim\u001b[0m\u001b[1;33m,\u001b[0m \u001b[0my_egitim\u001b[0m \u001b[1;33m=\u001b[0m \u001b[0mX\u001b[0m\u001b[1;33m[\u001b[0m\u001b[0megitim_indeks\u001b[0m\u001b[1;33m]\u001b[0m\u001b[1;33m,\u001b[0m \u001b[0my\u001b[0m\u001b[1;33m[\u001b[0m\u001b[0megitim_indeks\u001b[0m\u001b[1;33m]\u001b[0m\u001b[1;33m\u001b[0m\u001b[1;33m\u001b[0m\u001b[0m\n\u001b[0m\u001b[0;32m     10\u001b[0m     \u001b[0mX_test\u001b[0m\u001b[1;33m,\u001b[0m \u001b[0my_test\u001b[0m \u001b[1;33m=\u001b[0m \u001b[0mX\u001b[0m\u001b[1;33m[\u001b[0m\u001b[0mtest_indeks\u001b[0m\u001b[1;33m]\u001b[0m\u001b[1;33m,\u001b[0m \u001b[0my\u001b[0m\u001b[1;33m[\u001b[0m\u001b[0mtest_indeks\u001b[0m\u001b[1;33m]\u001b[0m\u001b[1;33m\u001b[0m\u001b[1;33m\u001b[0m\u001b[0m\n\u001b[0;32m     11\u001b[0m \u001b[1;33m\u001b[0m\u001b[0m\n",
      "\u001b[1;32m~\\Anaconda3\\lib\\site-packages\\pandas\\core\\frame.py\u001b[0m in \u001b[0;36m__getitem__\u001b[1;34m(self, key)\u001b[0m\n\u001b[0;32m   2680\u001b[0m         \u001b[1;32mif\u001b[0m \u001b[0misinstance\u001b[0m\u001b[1;33m(\u001b[0m\u001b[0mkey\u001b[0m\u001b[1;33m,\u001b[0m \u001b[1;33m(\u001b[0m\u001b[0mSeries\u001b[0m\u001b[1;33m,\u001b[0m \u001b[0mnp\u001b[0m\u001b[1;33m.\u001b[0m\u001b[0mndarray\u001b[0m\u001b[1;33m,\u001b[0m \u001b[0mIndex\u001b[0m\u001b[1;33m,\u001b[0m \u001b[0mlist\u001b[0m\u001b[1;33m)\u001b[0m\u001b[1;33m)\u001b[0m\u001b[1;33m:\u001b[0m\u001b[1;33m\u001b[0m\u001b[1;33m\u001b[0m\u001b[0m\n\u001b[0;32m   2681\u001b[0m             \u001b[1;31m# either boolean or fancy integer index\u001b[0m\u001b[1;33m\u001b[0m\u001b[1;33m\u001b[0m\u001b[1;33m\u001b[0m\u001b[0m\n\u001b[1;32m-> 2682\u001b[1;33m             \u001b[1;32mreturn\u001b[0m \u001b[0mself\u001b[0m\u001b[1;33m.\u001b[0m\u001b[0m_getitem_array\u001b[0m\u001b[1;33m(\u001b[0m\u001b[0mkey\u001b[0m\u001b[1;33m)\u001b[0m\u001b[1;33m\u001b[0m\u001b[1;33m\u001b[0m\u001b[0m\n\u001b[0m\u001b[0;32m   2683\u001b[0m         \u001b[1;32melif\u001b[0m \u001b[0misinstance\u001b[0m\u001b[1;33m(\u001b[0m\u001b[0mkey\u001b[0m\u001b[1;33m,\u001b[0m \u001b[0mDataFrame\u001b[0m\u001b[1;33m)\u001b[0m\u001b[1;33m:\u001b[0m\u001b[1;33m\u001b[0m\u001b[1;33m\u001b[0m\u001b[0m\n\u001b[0;32m   2684\u001b[0m             \u001b[1;32mreturn\u001b[0m \u001b[0mself\u001b[0m\u001b[1;33m.\u001b[0m\u001b[0m_getitem_frame\u001b[0m\u001b[1;33m(\u001b[0m\u001b[0mkey\u001b[0m\u001b[1;33m)\u001b[0m\u001b[1;33m\u001b[0m\u001b[1;33m\u001b[0m\u001b[0m\n",
      "\u001b[1;32m~\\Anaconda3\\lib\\site-packages\\pandas\\core\\frame.py\u001b[0m in \u001b[0;36m_getitem_array\u001b[1;34m(self, key)\u001b[0m\n\u001b[0;32m   2724\u001b[0m             \u001b[1;32mreturn\u001b[0m \u001b[0mself\u001b[0m\u001b[1;33m.\u001b[0m\u001b[0m_take\u001b[0m\u001b[1;33m(\u001b[0m\u001b[0mindexer\u001b[0m\u001b[1;33m,\u001b[0m \u001b[0maxis\u001b[0m\u001b[1;33m=\u001b[0m\u001b[1;36m0\u001b[0m\u001b[1;33m)\u001b[0m\u001b[1;33m\u001b[0m\u001b[1;33m\u001b[0m\u001b[0m\n\u001b[0;32m   2725\u001b[0m         \u001b[1;32melse\u001b[0m\u001b[1;33m:\u001b[0m\u001b[1;33m\u001b[0m\u001b[1;33m\u001b[0m\u001b[0m\n\u001b[1;32m-> 2726\u001b[1;33m             \u001b[0mindexer\u001b[0m \u001b[1;33m=\u001b[0m \u001b[0mself\u001b[0m\u001b[1;33m.\u001b[0m\u001b[0mloc\u001b[0m\u001b[1;33m.\u001b[0m\u001b[0m_convert_to_indexer\u001b[0m\u001b[1;33m(\u001b[0m\u001b[0mkey\u001b[0m\u001b[1;33m,\u001b[0m \u001b[0maxis\u001b[0m\u001b[1;33m=\u001b[0m\u001b[1;36m1\u001b[0m\u001b[1;33m)\u001b[0m\u001b[1;33m\u001b[0m\u001b[1;33m\u001b[0m\u001b[0m\n\u001b[0m\u001b[0;32m   2727\u001b[0m             \u001b[1;32mreturn\u001b[0m \u001b[0mself\u001b[0m\u001b[1;33m.\u001b[0m\u001b[0m_take\u001b[0m\u001b[1;33m(\u001b[0m\u001b[0mindexer\u001b[0m\u001b[1;33m,\u001b[0m \u001b[0maxis\u001b[0m\u001b[1;33m=\u001b[0m\u001b[1;36m1\u001b[0m\u001b[1;33m)\u001b[0m\u001b[1;33m\u001b[0m\u001b[1;33m\u001b[0m\u001b[0m\n\u001b[0;32m   2728\u001b[0m \u001b[1;33m\u001b[0m\u001b[0m\n",
      "\u001b[1;32m~\\Anaconda3\\lib\\site-packages\\pandas\\core\\indexing.py\u001b[0m in \u001b[0;36m_convert_to_indexer\u001b[1;34m(self, obj, axis, is_setter)\u001b[0m\n\u001b[0;32m   1325\u001b[0m                 \u001b[1;32mif\u001b[0m \u001b[0mmask\u001b[0m\u001b[1;33m.\u001b[0m\u001b[0many\u001b[0m\u001b[1;33m(\u001b[0m\u001b[1;33m)\u001b[0m\u001b[1;33m:\u001b[0m\u001b[1;33m\u001b[0m\u001b[1;33m\u001b[0m\u001b[0m\n\u001b[0;32m   1326\u001b[0m                     raise KeyError('{mask} not in index'\n\u001b[1;32m-> 1327\u001b[1;33m                                    .format(mask=objarr[mask]))\n\u001b[0m\u001b[0;32m   1328\u001b[0m \u001b[1;33m\u001b[0m\u001b[0m\n\u001b[0;32m   1329\u001b[0m                 \u001b[1;32mreturn\u001b[0m \u001b[0mcom\u001b[0m\u001b[1;33m.\u001b[0m\u001b[0m_values_from_object\u001b[0m\u001b[1;33m(\u001b[0m\u001b[0mindexer\u001b[0m\u001b[1;33m)\u001b[0m\u001b[1;33m\u001b[0m\u001b[1;33m\u001b[0m\u001b[0m\n",
      "\u001b[1;31mKeyError\u001b[0m: '[  0   1   2   3   4   5   6  11  12  15  16  17  19  21  22  23  24  25\\n  26  27  28  29  30  31  33  35  37  38  39  40  41  42  43  44  45  47\\n  48  49  50  51  52  53  54  55  57  60  61  63  64  65  66  67  68  69\\n  70  71  72  73  74  75  76  77  78  79  81  82  83  84  85  86  87  88\\n  91  93  95  96  97  98  99 100 101 102 103 104 105 107 108 109 110 111\\n 112 113 114 115 117 118 121 122 123 124 125 126 129 130 131 132 133 134\\n 135 136 137 138 139 140 141 142 144 145 146 148 149 151 152 153 154 155\\n 157 158 159 160 161 162 163 164 165 166 167 168 169 170 171 174 176 177\\n 178 179 181 183 184 185 186 187 188 190 192 193 194 196 198 199 200 201\\n 203 205 207 208 209 210 212 213 215 217 218 219 220 221 222 223 224 225\\n 227 228 229 230 231 232 233 234 235 236 237 238 239 240 241 242 243 244\\n 245 246 247 248 249 251 252 253 254 255 256 257 258 259 260 261 262 263\\n 264 265 267 268 270 271 272 273 274 275 276 277 278 280 281 282 283 284\\n 285 286 287 288 289 290 291 292 293 294 295 297 298 299 300 301 302 303\\n 304 305 306 309 310 313 314 315 316 318 321 322 323 324 326 327 329 330\\n 331 332 334 335 336 339 341 343 345 349 351 352 353 355 356 359 360 361\\n 362 363 367 368 369 371 372 374 375 376 378 379 380 381 382 384 385 386\\n 388 390 393 396 397 398 399 400 401 402 403 404 405 406 407 408 409 410\\n 411 413 414 415 416 417 418 419 420 423 425 426 427 429 430 432 433 434\\n 435 436 437 439 441 442 443 444 447 448 449 450 451 454 455 456 458 459\\n 460 461 462 463 464 465 466 467 468 469 470 473 474 475 477 478 479 480\\n 483 485 486 490 491 492 493 494 496 497 498 500 501 502 503 504 505 507\\n 508 509 510 511 512 513 514 515 516 517 518 519 520 523 524 526 527 529\\n 530 531 533 534 535 536 537 538 539 540 541 543 545 546 548 549 550 551\\n 552 554 555 556 557 558 559 562 564 565 566 567 568 569 570 571 572 573\\n 574 576 577 578 579 581 582 583 584 585 587 588 589 590 591 593 594 595\\n 596 597 599 600 601 603 604 605 606 608 609 610 611 612 613 615 616 617\\n 618 620 621 622 623 624 625 626 627 628 629 630 631 632 633 634 635 637\\n 638 639 642 643 644 645 646 648 649 650 651 653 654 655 656 657 658 659\\n 660 661 662 663 664 665 666 667 668 670 672 673 675 676 677 678 680 681\\n 682 683 684 685 686 687 688 689 690 691 692 693 696 697 698 699 700 701\\n 702 703 704 705 706 707 708 709 712 713 714 715 716 717 718 719 720 722\\n 723 724 725 726 727 728 729 732 735 736 737 740 741 742 743 744 745 746\\n 747 749 750 751 752 754 755 756 757 758 759 760 761 763 764 765 766 770\\n 771 772 773 774 775 777 778 781 782 784 785 786 787 788 789 790 792 793\\n 794 795 796 797 798 799 800 802 803 804 805 806 807 808 809 810 811 812\\n 813 814 815 816 817 818 820 822 823 824 825 827 829 830 831 832 833 837\\n 838 839 840 841 842 843 844 846 847 848 849 850 851 852 853 854 855 857\\n 858 859 860 861 862 863 864 865 866 867 868 869 871 872 873 874 875 876\\n 877 879 880 882 883 885 886 887 888 889] not in index'"
     ]
    }
   ],
   "source": [
    "from sklearn.metrics import mean_squared_error \n",
    "\n",
    "\n",
    "model2 = LogisticRegression()\n",
    "parcalar = kf.split(X)\n",
    "dogruluk_liste = []\n",
    "\n",
    "for i, (egitim_indeks, test_indeks) in enumerate(parcalar):\n",
    "    X_egitim, y_egitim = X[egitim_indeks], y[egitim_indeks]\n",
    "    X_test, y_test = X[test_indeks], y[test_indeks]\n",
    "    \n",
    "    model2.fit(X_egitim, y_egitim)\n",
    "    tahmin = model2.predict(X_test)\n",
    "    dogruluk_degeri = model.score(X_test, y_test)  \n",
    "    \n",
    "    dogruluk_liste.append(dogruluk_degeri)\n",
    "    \n",
    "    print(\"{}.Parça Doğruluk Değeri: {:.3f}\".format(i+1, dogruluk_degeri))\n",
    "    print(\"-\"*30)"
   ]
  },
  {
   "cell_type": "code",
   "execution_count": 37,
   "metadata": {},
   "outputs": [
    {
     "name": "stdout",
     "output_type": "stream",
     "text": [
      "Ortalama doğruluk değeri : nan\n"
     ]
    }
   ],
   "source": [
    "print(\"Ortalama doğruluk değeri : {:.2f}\".format(np.mean(dogruluk_liste)))"
   ]
  },
  {
   "cell_type": "code",
   "execution_count": null,
   "metadata": {},
   "outputs": [],
   "source": []
  },
  {
   "cell_type": "markdown",
   "metadata": {},
   "source": [
    "### 1.2.2 cross_val_score ve cross_validate ile çapraz doğrulama"
   ]
  },
  {
   "cell_type": "markdown",
   "metadata": {},
   "source": [
    "#### <font color='blue'> Kfold ile çapraz doğrulama yaparken, Kfold fonksiyonu sadece parçaya ayırmamıza yaradı. cross_validate ve cross_val_score fonksiyonları ise yaptığımız işelemlerin çoğunu kendisi yapmaktadır."
   ]
  },
  {
   "cell_type": "code",
   "execution_count": 39,
   "metadata": {},
   "outputs": [],
   "source": [
    "from sklearn.model_selection import cross_validate, cross_val_score"
   ]
  },
  {
   "cell_type": "code",
   "execution_count": 40,
   "metadata": {},
   "outputs": [
    {
     "name": "stdout",
     "output_type": "stream",
     "text": [
      "Test Skorları            : \n",
      "[0.77777778 0.78888889 0.7752809  0.83146067 0.79775281 0.76404494\n",
      " 0.79775281 0.7752809  0.83146067 0.77272727]\n",
      "--------------------------------------------------\n",
      "Eğitim Skorları          : \n",
      "[0.80399501 0.79900125 0.80049875 0.79800499 0.7967581  0.80299252\n",
      " 0.79925187 0.79925187 0.7967581  0.79950187]\n"
     ]
    }
   ],
   "source": [
    "lrm = LogisticRegression()\n",
    "cv = cross_validate(estimator=lrm,\n",
    "                     X=X,\n",
    "                     y=y,\n",
    "                     cv=10,\n",
    "                    )\n",
    "print('Test Skorları            : ', cv['test_score'], sep = '\\n')\n",
    "print(\"-\"*50)\n",
    "print('Eğitim Skorları          : ', cv['train_score'], sep = '\\n')"
   ]
  },
  {
   "cell_type": "markdown",
   "metadata": {},
   "source": [
    "#### <font color='gray'> cross_validate fonksiyonu parametre olarak bir tahmin modeline ihtiyaç duymaktadır. X ve y değerleri, kaç katlı çapraz doğrulama yapılacağı ve performans ölçümü için metrik değerini de parametre olarak belirtmemiz gerekmektedir. Bu fonksiyon sonuç olarak her bir parça eğitim ve test kümesi için performans değeri döndürmektedir.\n",
    "    \n",
    "#### <font color='gray'> cross_validate fonksiyonu scoring parametresi varsayılan olarak 'accuracy' olduğundan  <font color='red'>  10 parça için 10 farklı doğruluk değerinden liste döndürdü --> cv=10. <font color='gray'>Bu listenin ortalamasını alarak modelimizin doğruluk değerini hesaplayabiliriz. Modelin performansı için kullanabileceğimiz diğer metriklere scikit-learn model evaluation sayfasından erişebilirsiniz(https://scikit-learn.org/stable/modules/model_evaluation.html). Metrik olarak birden fazla metrik belirleyeceğimiz gibi, make_scorer() fonksiyonunu kullanarak istediğimiz metriği kendimiz de oluşturabiliriz."
   ]
  },
  {
   "cell_type": "code",
   "execution_count": 41,
   "metadata": {},
   "outputs": [
    {
     "name": "stdout",
     "output_type": "stream",
     "text": [
      "Test Kümesi   Ortalaması :  0.7912427647259108\n",
      "Eğitim Kümesi Ortalaması :  0.7996014332152975\n"
     ]
    }
   ],
   "source": [
    "print('Test Kümesi   Ortalaması : ', cv['test_score'].mean())\n",
    "print('Eğitim Kümesi Ortalaması : ', cv['train_score'].mean())"
   ]
  },
  {
   "cell_type": "code",
   "execution_count": 42,
   "metadata": {},
   "outputs": [],
   "source": [
    "cv = cross_validate(estimator=lrm, \n",
    "                     X=X,\n",
    "                     y=y,\n",
    "                     cv=10,\n",
    "                     scoring = ['accuracy', 'precision', 'r2']\n",
    "                    )"
   ]
  },
  {
   "cell_type": "code",
   "execution_count": 43,
   "metadata": {},
   "outputs": [
    {
     "name": "stdout",
     "output_type": "stream",
     "text": [
      "Test Kümesi Doğruluk Ortalaması     : 0.79\n",
      "Test Kümesi R-kare  Ortalaması      : 0.12\n",
      "Test Kümesi Hassasiyet Ortalaması   : 0.75\n",
      "Eğitim Kümesi Doğruluk Ortalaması   : 0.80\n",
      "Eğitim Kümesi R-kare  Ortalaması    : 0.15\n",
      "Eğitim Kümesi Hassasiyet Ortalaması : 0.76\n"
     ]
    }
   ],
   "source": [
    "print('Test Kümesi Doğruluk Ortalaması     : {:.2f}'.format(cv['test_accuracy'].mean()))\n",
    "print('Test Kümesi R-kare  Ortalaması      : {:.2f}'.format(cv['test_r2'].mean()))\n",
    "print('Test Kümesi Hassasiyet Ortalaması   : {:.2f}'.format(cv['test_precision'].mean()))\n",
    "print('Eğitim Kümesi Doğruluk Ortalaması   : {:.2f}'.format(cv['train_accuracy'].mean()))\n",
    "print('Eğitim Kümesi R-kare  Ortalaması    : {:.2f}'.format(cv['train_r2'].mean()))\n",
    "print('Eğitim Kümesi Hassasiyet Ortalaması : {:.2f}'.format(cv['train_precision'].mean()))"
   ]
  },
  {
   "cell_type": "markdown",
   "metadata": {},
   "source": [
    "#### <font color='gray'> cross_val_score birden çok metrik değerini desteklememekte ve sadece test kümesi değerlerini döndürmektedir."
   ]
  },
  {
   "cell_type": "code",
   "execution_count": 44,
   "metadata": {},
   "outputs": [
    {
     "name": "stdout",
     "output_type": "stream",
     "text": [
      "Model Skorları            : \n",
      "[0.77777778 0.78888889 0.7752809  0.83146067 0.79775281 0.76404494\n",
      " 0.79775281 0.7752809  0.83146067 0.77272727]\n"
     ]
    }
   ],
   "source": [
    "cv = cross_val_score(estimator=lrm,\n",
    "                     X=X,\n",
    "                     y=y,\n",
    "                     cv=10                    \n",
    "                    )\n",
    "print('Model Skorları            : ', cv, sep = '\\n')"
   ]
  },
  {
   "cell_type": "code",
   "execution_count": 45,
   "metadata": {},
   "outputs": [
    {
     "name": "stdout",
     "output_type": "stream",
     "text": [
      "[0 1 1 1 0 0 0 0 0 1]\n"
     ]
    }
   ],
   "source": [
    "from sklearn.model_selection import cross_val_predict\n",
    "y_tahmin = cross_val_predict(estimator=lrm, X=X, y=y, cv=10)\n",
    "print(y_tahmin[0:10])"
   ]
  },
  {
   "cell_type": "markdown",
   "metadata": {},
   "source": [
    "## 2. Hiperparametre Ayarlama (Hyperparameter tuning)"
   ]
  },
  {
   "cell_type": "code",
   "execution_count": 46,
   "metadata": {},
   "outputs": [
    {
     "name": "stdout",
     "output_type": "stream",
     "text": [
      "{'C': 1.0, 'class_weight': None, 'dual': False, 'fit_intercept': True, 'intercept_scaling': 1, 'max_iter': 100, 'multi_class': 'warn', 'n_jobs': None, 'penalty': 'l2', 'random_state': None, 'solver': 'warn', 'tol': 0.0001, 'verbose': 0, 'warm_start': False}\n"
     ]
    }
   ],
   "source": [
    "logreg = LogisticRegression()\n",
    "print(logreg.get_params())"
   ]
  },
  {
   "cell_type": "markdown",
   "metadata": {},
   "source": [
    "### 2.1. Grid Search"
   ]
  },
  {
   "cell_type": "markdown",
   "metadata": {},
   "source": [
    "#### <font color='light bule'>Grid search yöntemi geleneksel hiperparametre ayarlama yöntemidir. Ayarlanmak istenen parametre değerleri bir liste ile belirlenir ve tüm ihtimaller denenerek en uygun parametrelere ulaşılır. Bunun için sklearn kütüphanesinin model_selection modülündeki GridSearchCV fonksiyonunu kullanacağız. "
   ]
  },
  {
   "cell_type": "code",
   "execution_count": 47,
   "metadata": {},
   "outputs": [],
   "source": [
    "parametreler = {\"C\": [10 ** x for x in range (-5, 5, 1)],\n",
    "                \"penalty\": ['l1', 'l2']\n",
    "                }"
   ]
  },
  {
   "cell_type": "code",
   "execution_count": 48,
   "metadata": {},
   "outputs": [
    {
     "data": {
      "text/plain": [
       "GridSearchCV(cv=10, error_score='raise-deprecating',\n",
       "       estimator=LogisticRegression(C=1.0, class_weight=None, dual=False, fit_intercept=True,\n",
       "          intercept_scaling=1, max_iter=100, multi_class='warn',\n",
       "          n_jobs=None, penalty='l2', random_state=None, solver='warn',\n",
       "          tol=0.0001, verbose=0, warm_start=False),\n",
       "       fit_params=None, iid='warn', n_jobs=None,\n",
       "       param_grid={'C': [1e-05, 0.0001, 0.001, 0.01, 0.1, 1, 10, 100, 1000, 10000], 'penalty': ['l1', 'l2']},\n",
       "       pre_dispatch='2*n_jobs', refit=True, return_train_score='warn',\n",
       "       scoring=None, verbose=0)"
      ]
     },
     "execution_count": 48,
     "metadata": {},
     "output_type": "execute_result"
    }
   ],
   "source": [
    "from sklearn.model_selection import GridSearchCV\n",
    "\n",
    "\n",
    "grid_cv = GridSearchCV(estimator=logreg,\n",
    "                       param_grid = parametreler,\n",
    "                       cv = 10\n",
    "                      )\n",
    "grid_cv.fit(X, y)"
   ]
  },
  {
   "cell_type": "code",
   "execution_count": 49,
   "metadata": {},
   "outputs": [
    {
     "name": "stdout",
     "output_type": "stream",
     "text": [
      "En iyi parametreler :  {'C': 1, 'penalty': 'l2'}\n",
      "En iyi skor         :  0.7912457912457912\n"
     ]
    }
   ],
   "source": [
    "print(\"En iyi parametreler : \", grid_cv.best_params_)\n",
    "print(\"En iyi skor         : \", grid_cv.best_score_)"
   ]
  },
  {
   "cell_type": "markdown",
   "metadata": {},
   "source": [
    "#### <font color='light bule'> Tüm sonuçları ise cv_results_ ile görebilir ve bu değerleri bir veri çerçevesine atabiliriz."
   ]
  },
  {
   "cell_type": "code",
   "execution_count": 50,
   "metadata": {},
   "outputs": [
    {
     "data": {
      "text/html": [
       "<div>\n",
       "<style scoped>\n",
       "    .dataframe tbody tr th:only-of-type {\n",
       "        vertical-align: middle;\n",
       "    }\n",
       "\n",
       "    .dataframe tbody tr th {\n",
       "        vertical-align: top;\n",
       "    }\n",
       "\n",
       "    .dataframe thead th {\n",
       "        text-align: right;\n",
       "    }\n",
       "</style>\n",
       "<table border=\"1\" class=\"dataframe\">\n",
       "  <thead>\n",
       "    <tr style=\"text-align: right;\">\n",
       "      <th></th>\n",
       "      <th>mean_fit_time</th>\n",
       "      <th>std_fit_time</th>\n",
       "      <th>mean_score_time</th>\n",
       "      <th>std_score_time</th>\n",
       "      <th>param_C</th>\n",
       "      <th>param_penalty</th>\n",
       "      <th>params</th>\n",
       "      <th>split0_test_score</th>\n",
       "      <th>split1_test_score</th>\n",
       "      <th>split2_test_score</th>\n",
       "      <th>...</th>\n",
       "      <th>split2_train_score</th>\n",
       "      <th>split3_train_score</th>\n",
       "      <th>split4_train_score</th>\n",
       "      <th>split5_train_score</th>\n",
       "      <th>split6_train_score</th>\n",
       "      <th>split7_train_score</th>\n",
       "      <th>split8_train_score</th>\n",
       "      <th>split9_train_score</th>\n",
       "      <th>mean_train_score</th>\n",
       "      <th>std_train_score</th>\n",
       "    </tr>\n",
       "  </thead>\n",
       "  <tbody>\n",
       "    <tr>\n",
       "      <th>0</th>\n",
       "      <td>0.001594</td>\n",
       "      <td>0.001953</td>\n",
       "      <td>0.000399</td>\n",
       "      <td>0.001198</td>\n",
       "      <td>1e-05</td>\n",
       "      <td>l1</td>\n",
       "      <td>{'C': 1e-05, 'penalty': 'l1'}</td>\n",
       "      <td>0.611111</td>\n",
       "      <td>0.611111</td>\n",
       "      <td>0.617978</td>\n",
       "      <td>...</td>\n",
       "      <td>0.615960</td>\n",
       "      <td>0.615960</td>\n",
       "      <td>0.615960</td>\n",
       "      <td>0.615960</td>\n",
       "      <td>0.615960</td>\n",
       "      <td>0.615960</td>\n",
       "      <td>0.615960</td>\n",
       "      <td>0.616438</td>\n",
       "      <td>0.616162</td>\n",
       "      <td>0.000317</td>\n",
       "    </tr>\n",
       "    <tr>\n",
       "      <th>1</th>\n",
       "      <td>0.001999</td>\n",
       "      <td>0.001999</td>\n",
       "      <td>0.001199</td>\n",
       "      <td>0.001832</td>\n",
       "      <td>1e-05</td>\n",
       "      <td>l2</td>\n",
       "      <td>{'C': 1e-05, 'penalty': 'l2'}</td>\n",
       "      <td>0.566667</td>\n",
       "      <td>0.555556</td>\n",
       "      <td>0.662921</td>\n",
       "      <td>...</td>\n",
       "      <td>0.644638</td>\n",
       "      <td>0.638404</td>\n",
       "      <td>0.653367</td>\n",
       "      <td>0.649626</td>\n",
       "      <td>0.648379</td>\n",
       "      <td>0.648379</td>\n",
       "      <td>0.644638</td>\n",
       "      <td>0.646326</td>\n",
       "      <td>0.648836</td>\n",
       "      <td>0.005622</td>\n",
       "    </tr>\n",
       "    <tr>\n",
       "      <th>2</th>\n",
       "      <td>0.001198</td>\n",
       "      <td>0.001831</td>\n",
       "      <td>0.000799</td>\n",
       "      <td>0.001598</td>\n",
       "      <td>0.0001</td>\n",
       "      <td>l1</td>\n",
       "      <td>{'C': 0.0001, 'penalty': 'l1'}</td>\n",
       "      <td>0.611111</td>\n",
       "      <td>0.611111</td>\n",
       "      <td>0.617978</td>\n",
       "      <td>...</td>\n",
       "      <td>0.615960</td>\n",
       "      <td>0.615960</td>\n",
       "      <td>0.615960</td>\n",
       "      <td>0.615960</td>\n",
       "      <td>0.615960</td>\n",
       "      <td>0.615960</td>\n",
       "      <td>0.615960</td>\n",
       "      <td>0.616438</td>\n",
       "      <td>0.616162</td>\n",
       "      <td>0.000317</td>\n",
       "    </tr>\n",
       "    <tr>\n",
       "      <th>3</th>\n",
       "      <td>0.001997</td>\n",
       "      <td>0.001997</td>\n",
       "      <td>0.000399</td>\n",
       "      <td>0.001198</td>\n",
       "      <td>0.0001</td>\n",
       "      <td>l2</td>\n",
       "      <td>{'C': 0.0001, 'penalty': 'l2'}</td>\n",
       "      <td>0.588889</td>\n",
       "      <td>0.611111</td>\n",
       "      <td>0.685393</td>\n",
       "      <td>...</td>\n",
       "      <td>0.663342</td>\n",
       "      <td>0.655860</td>\n",
       "      <td>0.670823</td>\n",
       "      <td>0.669576</td>\n",
       "      <td>0.667082</td>\n",
       "      <td>0.663342</td>\n",
       "      <td>0.658354</td>\n",
       "      <td>0.663761</td>\n",
       "      <td>0.666295</td>\n",
       "      <td>0.006494</td>\n",
       "    </tr>\n",
       "    <tr>\n",
       "      <th>4</th>\n",
       "      <td>0.001597</td>\n",
       "      <td>0.001956</td>\n",
       "      <td>0.000800</td>\n",
       "      <td>0.001599</td>\n",
       "      <td>0.001</td>\n",
       "      <td>l1</td>\n",
       "      <td>{'C': 0.001, 'penalty': 'l1'}</td>\n",
       "      <td>0.511111</td>\n",
       "      <td>0.544444</td>\n",
       "      <td>0.651685</td>\n",
       "      <td>...</td>\n",
       "      <td>0.637157</td>\n",
       "      <td>0.627182</td>\n",
       "      <td>0.650873</td>\n",
       "      <td>0.647132</td>\n",
       "      <td>0.648379</td>\n",
       "      <td>0.642145</td>\n",
       "      <td>0.639651</td>\n",
       "      <td>0.642590</td>\n",
       "      <td>0.644347</td>\n",
       "      <td>0.008151</td>\n",
       "    </tr>\n",
       "  </tbody>\n",
       "</table>\n",
       "<p>5 rows × 32 columns</p>\n",
       "</div>"
      ],
      "text/plain": [
       "   mean_fit_time  std_fit_time  mean_score_time  std_score_time param_C  \\\n",
       "0       0.001594      0.001953         0.000399        0.001198   1e-05   \n",
       "1       0.001999      0.001999         0.001199        0.001832   1e-05   \n",
       "2       0.001198      0.001831         0.000799        0.001598  0.0001   \n",
       "3       0.001997      0.001997         0.000399        0.001198  0.0001   \n",
       "4       0.001597      0.001956         0.000800        0.001599   0.001   \n",
       "\n",
       "  param_penalty                          params  split0_test_score  \\\n",
       "0            l1   {'C': 1e-05, 'penalty': 'l1'}           0.611111   \n",
       "1            l2   {'C': 1e-05, 'penalty': 'l2'}           0.566667   \n",
       "2            l1  {'C': 0.0001, 'penalty': 'l1'}           0.611111   \n",
       "3            l2  {'C': 0.0001, 'penalty': 'l2'}           0.588889   \n",
       "4            l1   {'C': 0.001, 'penalty': 'l1'}           0.511111   \n",
       "\n",
       "   split1_test_score  split2_test_score       ...         split2_train_score  \\\n",
       "0           0.611111           0.617978       ...                   0.615960   \n",
       "1           0.555556           0.662921       ...                   0.644638   \n",
       "2           0.611111           0.617978       ...                   0.615960   \n",
       "3           0.611111           0.685393       ...                   0.663342   \n",
       "4           0.544444           0.651685       ...                   0.637157   \n",
       "\n",
       "   split3_train_score  split4_train_score  split5_train_score  \\\n",
       "0            0.615960            0.615960            0.615960   \n",
       "1            0.638404            0.653367            0.649626   \n",
       "2            0.615960            0.615960            0.615960   \n",
       "3            0.655860            0.670823            0.669576   \n",
       "4            0.627182            0.650873            0.647132   \n",
       "\n",
       "   split6_train_score  split7_train_score  split8_train_score  \\\n",
       "0            0.615960            0.615960            0.615960   \n",
       "1            0.648379            0.648379            0.644638   \n",
       "2            0.615960            0.615960            0.615960   \n",
       "3            0.667082            0.663342            0.658354   \n",
       "4            0.648379            0.642145            0.639651   \n",
       "\n",
       "   split9_train_score  mean_train_score  std_train_score  \n",
       "0            0.616438          0.616162         0.000317  \n",
       "1            0.646326          0.648836         0.005622  \n",
       "2            0.616438          0.616162         0.000317  \n",
       "3            0.663761          0.666295         0.006494  \n",
       "4            0.642590          0.644347         0.008151  \n",
       "\n",
       "[5 rows x 32 columns]"
      ]
     },
     "execution_count": 50,
     "metadata": {},
     "output_type": "execute_result"
    }
   ],
   "source": [
    "sonuçlar = grid_cv.cv_results_\n",
    "df = pd.DataFrame(sonuçlar)\n",
    "df.head()"
   ]
  },
  {
   "cell_type": "code",
   "execution_count": 51,
   "metadata": {},
   "outputs": [
    {
     "data": {
      "text/html": [
       "<div>\n",
       "<style scoped>\n",
       "    .dataframe tbody tr th:only-of-type {\n",
       "        vertical-align: middle;\n",
       "    }\n",
       "\n",
       "    .dataframe tbody tr th {\n",
       "        vertical-align: top;\n",
       "    }\n",
       "\n",
       "    .dataframe thead th {\n",
       "        text-align: right;\n",
       "    }\n",
       "</style>\n",
       "<table border=\"1\" class=\"dataframe\">\n",
       "  <thead>\n",
       "    <tr style=\"text-align: right;\">\n",
       "      <th></th>\n",
       "      <th>param_penalty</th>\n",
       "      <th>param_C</th>\n",
       "      <th>mean_test_score</th>\n",
       "    </tr>\n",
       "  </thead>\n",
       "  <tbody>\n",
       "    <tr>\n",
       "      <th>11</th>\n",
       "      <td>l2</td>\n",
       "      <td>1</td>\n",
       "      <td>0.791246</td>\n",
       "    </tr>\n",
       "    <tr>\n",
       "      <th>10</th>\n",
       "      <td>l1</td>\n",
       "      <td>1</td>\n",
       "      <td>0.790123</td>\n",
       "    </tr>\n",
       "    <tr>\n",
       "      <th>8</th>\n",
       "      <td>l1</td>\n",
       "      <td>0.1</td>\n",
       "      <td>0.789001</td>\n",
       "    </tr>\n",
       "    <tr>\n",
       "      <th>9</th>\n",
       "      <td>l2</td>\n",
       "      <td>0.1</td>\n",
       "      <td>0.787879</td>\n",
       "    </tr>\n",
       "    <tr>\n",
       "      <th>16</th>\n",
       "      <td>l1</td>\n",
       "      <td>1000</td>\n",
       "      <td>0.786756</td>\n",
       "    </tr>\n",
       "    <tr>\n",
       "      <th>14</th>\n",
       "      <td>l1</td>\n",
       "      <td>100</td>\n",
       "      <td>0.785634</td>\n",
       "    </tr>\n",
       "    <tr>\n",
       "      <th>18</th>\n",
       "      <td>l1</td>\n",
       "      <td>10000</td>\n",
       "      <td>0.784512</td>\n",
       "    </tr>\n",
       "    <tr>\n",
       "      <th>17</th>\n",
       "      <td>l2</td>\n",
       "      <td>1000</td>\n",
       "      <td>0.784512</td>\n",
       "    </tr>\n",
       "    <tr>\n",
       "      <th>15</th>\n",
       "      <td>l2</td>\n",
       "      <td>100</td>\n",
       "      <td>0.784512</td>\n",
       "    </tr>\n",
       "    <tr>\n",
       "      <th>13</th>\n",
       "      <td>l2</td>\n",
       "      <td>10</td>\n",
       "      <td>0.784512</td>\n",
       "    </tr>\n",
       "    <tr>\n",
       "      <th>12</th>\n",
       "      <td>l1</td>\n",
       "      <td>10</td>\n",
       "      <td>0.784512</td>\n",
       "    </tr>\n",
       "    <tr>\n",
       "      <th>19</th>\n",
       "      <td>l2</td>\n",
       "      <td>10000</td>\n",
       "      <td>0.784512</td>\n",
       "    </tr>\n",
       "    <tr>\n",
       "      <th>7</th>\n",
       "      <td>l2</td>\n",
       "      <td>0.01</td>\n",
       "      <td>0.746352</td>\n",
       "    </tr>\n",
       "    <tr>\n",
       "      <th>5</th>\n",
       "      <td>l2</td>\n",
       "      <td>0.001</td>\n",
       "      <td>0.690236</td>\n",
       "    </tr>\n",
       "    <tr>\n",
       "      <th>6</th>\n",
       "      <td>l1</td>\n",
       "      <td>0.01</td>\n",
       "      <td>0.667789</td>\n",
       "    </tr>\n",
       "    <tr>\n",
       "      <th>3</th>\n",
       "      <td>l2</td>\n",
       "      <td>0.0001</td>\n",
       "      <td>0.666667</td>\n",
       "    </tr>\n",
       "    <tr>\n",
       "      <th>1</th>\n",
       "      <td>l2</td>\n",
       "      <td>1e-05</td>\n",
       "      <td>0.644220</td>\n",
       "    </tr>\n",
       "    <tr>\n",
       "      <th>4</th>\n",
       "      <td>l1</td>\n",
       "      <td>0.001</td>\n",
       "      <td>0.635241</td>\n",
       "    </tr>\n",
       "    <tr>\n",
       "      <th>2</th>\n",
       "      <td>l1</td>\n",
       "      <td>0.0001</td>\n",
       "      <td>0.616162</td>\n",
       "    </tr>\n",
       "    <tr>\n",
       "      <th>0</th>\n",
       "      <td>l1</td>\n",
       "      <td>1e-05</td>\n",
       "      <td>0.616162</td>\n",
       "    </tr>\n",
       "  </tbody>\n",
       "</table>\n",
       "</div>"
      ],
      "text/plain": [
       "   param_penalty param_C  mean_test_score\n",
       "11            l2       1         0.791246\n",
       "10            l1       1         0.790123\n",
       "8             l1     0.1         0.789001\n",
       "9             l2     0.1         0.787879\n",
       "16            l1    1000         0.786756\n",
       "14            l1     100         0.785634\n",
       "18            l1   10000         0.784512\n",
       "17            l2    1000         0.784512\n",
       "15            l2     100         0.784512\n",
       "13            l2      10         0.784512\n",
       "12            l1      10         0.784512\n",
       "19            l2   10000         0.784512\n",
       "7             l2    0.01         0.746352\n",
       "5             l2   0.001         0.690236\n",
       "6             l1    0.01         0.667789\n",
       "3             l2  0.0001         0.666667\n",
       "1             l2   1e-05         0.644220\n",
       "4             l1   0.001         0.635241\n",
       "2             l1  0.0001         0.616162\n",
       "0             l1   1e-05         0.616162"
      ]
     },
     "execution_count": 51,
     "metadata": {},
     "output_type": "execute_result"
    }
   ],
   "source": [
    "df = df[['param_penalty','param_C', 'mean_test_score']]\n",
    "df = df.sort_values(by='mean_test_score', ascending = False)\n",
    "df"
   ]
  },
  {
   "cell_type": "markdown",
   "metadata": {},
   "source": [
    "#### <font color='light bule'> En başarılı 10 parametre kombinasyonunu grafik üzerinde inceleyelim."
   ]
  },
  {
   "cell_type": "code",
   "execution_count": 59,
   "metadata": {},
   "outputs": [
    {
     "data": {
      "image/png": "[encoded data removed]",
      "text/plain": [
       "<Figure size 648x432 with 1 Axes>"
      ]
     },
     "metadata": {},
     "output_type": "display_data"
    }
   ],
   "source": [
    "plt.style.use('fivethirtyeight')\n",
    "\n",
    "plt.figure(figsize=(9,6))\n",
    "\n",
    "sns.scatterplot(x = 'param_C', y = 'mean_test_score', hue = 'param_penalty', data = df[0:10], s=150)\n",
    "\n",
    "plt.xscale('symlog')\n",
    "#plt.ylim((0.9,1))\n",
    "plt.show()"
   ]
  },
  {
   "cell_type": "markdown",
   "metadata": {},
   "source": [
    "### 2.2. RandomizedSearchCV"
   ]
  },
  {
   "cell_type": "markdown",
   "metadata": {},
   "source": [
    "#### <font color='light bule'> Randomize Search yöntemi Grid Search yöntemine çok benzemektedir. Grid Search yönteminde parametrelerin alabileceği tüm kombinasyonlar denenmekte iken Randomize Search yönteminde istenen sayıdaki rastgele kombinasyonlar denenmektedir. Bu sayede Randomize Search yönteminde parametre olarak liste yerine bir değer aralığı da kullanılabilmektedir. \n",
    "    \n",
    "#### <font color='red'> GridSearchCV fonksiyondan farklı olarak, kaç farklı kombinasyon deneneceğini n_iter parametreisi ile belirlememiz gerekmektedir."
   ]
  },
  {
   "cell_type": "code",
   "execution_count": 60,
   "metadata": {},
   "outputs": [],
   "source": [
    "parametreler = {\"C\": [10 ** x for x in range (-5, 5, 1)],\n",
    "                \"penalty\": ['l1', 'l2']\n",
    "                }"
   ]
  },
  {
   "cell_type": "code",
   "execution_count": 62,
   "metadata": {},
   "outputs": [
    {
     "data": {
      "text/plain": [
       "RandomizedSearchCV(cv=10, error_score='raise-deprecating',\n",
       "          estimator=LogisticRegression(C=1.0, class_weight=None, dual=False, fit_intercept=True,\n",
       "          intercept_scaling=1, max_iter=100, multi_class='warn',\n",
       "          n_jobs=None, penalty='l2', random_state=None, solver='warn',\n",
       "          tol=0.0001, verbose=0, warm_start=False),\n",
       "          fit_params=None, iid='warn', n_iter=10, n_jobs=None,\n",
       "          param_distributions={'C': [1e-05, 0.0001, 0.001, 0.01, 0.1, 1, 10, 100, 1000, 10000], 'penalty': ['l1', 'l2']},\n",
       "          pre_dispatch='2*n_jobs', random_state=111, refit=True,\n",
       "          return_train_score='warn', scoring='precision', verbose=0)"
      ]
     },
     "execution_count": 62,
     "metadata": {},
     "output_type": "execute_result"
    }
   ],
   "source": [
    "from sklearn.model_selection import RandomizedSearchCV\n",
    "\n",
    "import warnings\n",
    "warnings.filterwarnings('ignore')\n",
    "\n",
    "\n",
    "rs_cv = RandomizedSearchCV(estimator=logreg,\n",
    "                           param_distributions = parametreler,\n",
    "                           cv = 10,\n",
    "                           n_iter = 10,\n",
    "                           random_state = 111,\n",
    "                           scoring = 'precision'\n",
    "                      )\n",
    "rs_cv.fit(X, y)"
   ]
  },
  {
   "cell_type": "code",
   "execution_count": 63,
   "metadata": {},
   "outputs": [
    {
     "name": "stdout",
     "output_type": "stream",
     "text": [
      "En iyi parametreler        :  {'penalty': 'l2', 'C': 1}\n",
      "Tüm hassasiyet değerleri   :  [0.69138907 0.71340329 0.73514902 0.75189787 0.73578094 0.73365888\n",
      " 0.64600804 0.70340883 0.73578094 0.        ]\n",
      "En iyi hassasiyet değeri   :  0.7518978658704233\n"
     ]
    }
   ],
   "source": [
    "print(\"En iyi parametreler        : \", rs_cv.best_params_)\n",
    "print(\"Tüm hassasiyet değerleri   : \", rs_cv.cv_results_['mean_test_score'])\n",
    "print(\"En iyi hassasiyet değeri   : \", rs_cv.best_score_)"
   ]
  },
  {
   "cell_type": "code",
   "execution_count": 64,
   "metadata": {},
   "outputs": [],
   "source": [
    "sonuçlar_rs = rs_cv.cv_results_\n",
    "df_rs = pd.DataFrame(sonuçlar_rs)"
   ]
  },
  {
   "cell_type": "code",
   "execution_count": 65,
   "metadata": {},
   "outputs": [
    {
     "data": {
      "text/html": [
       "<div>\n",
       "<style scoped>\n",
       "    .dataframe tbody tr th:only-of-type {\n",
       "        vertical-align: middle;\n",
       "    }\n",
       "\n",
       "    .dataframe tbody tr th {\n",
       "        vertical-align: top;\n",
       "    }\n",
       "\n",
       "    .dataframe thead th {\n",
       "        text-align: right;\n",
       "    }\n",
       "</style>\n",
       "<table border=\"1\" class=\"dataframe\">\n",
       "  <thead>\n",
       "    <tr style=\"text-align: right;\">\n",
       "      <th></th>\n",
       "      <th>param_penalty</th>\n",
       "      <th>param_C</th>\n",
       "      <th>mean_test_score</th>\n",
       "    </tr>\n",
       "  </thead>\n",
       "  <tbody>\n",
       "    <tr>\n",
       "      <th>3</th>\n",
       "      <td>l2</td>\n",
       "      <td>1</td>\n",
       "      <td>0.751898</td>\n",
       "    </tr>\n",
       "    <tr>\n",
       "      <th>4</th>\n",
       "      <td>l1</td>\n",
       "      <td>100</td>\n",
       "      <td>0.735781</td>\n",
       "    </tr>\n",
       "    <tr>\n",
       "      <th>8</th>\n",
       "      <td>l1</td>\n",
       "      <td>1000</td>\n",
       "      <td>0.735781</td>\n",
       "    </tr>\n",
       "    <tr>\n",
       "      <th>2</th>\n",
       "      <td>l2</td>\n",
       "      <td>10</td>\n",
       "      <td>0.735149</td>\n",
       "    </tr>\n",
       "    <tr>\n",
       "      <th>5</th>\n",
       "      <td>l2</td>\n",
       "      <td>1000</td>\n",
       "      <td>0.733659</td>\n",
       "    </tr>\n",
       "    <tr>\n",
       "      <th>1</th>\n",
       "      <td>l2</td>\n",
       "      <td>0.001</td>\n",
       "      <td>0.713403</td>\n",
       "    </tr>\n",
       "    <tr>\n",
       "      <th>7</th>\n",
       "      <td>l1</td>\n",
       "      <td>0.001</td>\n",
       "      <td>0.703409</td>\n",
       "    </tr>\n",
       "    <tr>\n",
       "      <th>0</th>\n",
       "      <td>l2</td>\n",
       "      <td>0.0001</td>\n",
       "      <td>0.691389</td>\n",
       "    </tr>\n",
       "    <tr>\n",
       "      <th>6</th>\n",
       "      <td>l1</td>\n",
       "      <td>0.01</td>\n",
       "      <td>0.646008</td>\n",
       "    </tr>\n",
       "    <tr>\n",
       "      <th>9</th>\n",
       "      <td>l1</td>\n",
       "      <td>1e-05</td>\n",
       "      <td>0.000000</td>\n",
       "    </tr>\n",
       "  </tbody>\n",
       "</table>\n",
       "</div>"
      ],
      "text/plain": [
       "  param_penalty param_C  mean_test_score\n",
       "3            l2       1         0.751898\n",
       "4            l1     100         0.735781\n",
       "8            l1    1000         0.735781\n",
       "2            l2      10         0.735149\n",
       "5            l2    1000         0.733659\n",
       "1            l2   0.001         0.713403\n",
       "7            l1   0.001         0.703409\n",
       "0            l2  0.0001         0.691389\n",
       "6            l1    0.01         0.646008\n",
       "9            l1   1e-05         0.000000"
      ]
     },
     "execution_count": 65,
     "metadata": {},
     "output_type": "execute_result"
    }
   ],
   "source": [
    "sonuçlar_rs = rs_cv.cv_results_\n",
    "df_rs = pd.DataFrame(sonuçlar_rs)\n",
    "df_rs = df_rs[['param_penalty','param_C', 'mean_test_score']]\n",
    "df_rs = df_rs.sort_values(by='mean_test_score', ascending = False)\n",
    "df_rs"
   ]
  },
  {
   "cell_type": "code",
   "execution_count": 68,
   "metadata": {},
   "outputs": [
    {
     "data": {
      "image/png": "[encoded data removed]",
      "text/plain": [
       "<Figure size 648x432 with 1 Axes>"
      ]
     },
     "metadata": {},
     "output_type": "display_data"
    }
   ],
   "source": [
    "plt.style.use('fivethirtyeight')\n",
    "plt.figure(figsize=(9,6))\n",
    "sns.scatterplot(x = 'param_C', y = 'mean_test_score', hue = 'param_penalty', data = df_rs, s=200)\n",
    "plt.xscale('symlog')\n",
    "plt.ylim((0.0,1))\n",
    "plt.show()\n"
   ]
  },
  {
   "cell_type": "markdown",
   "metadata": {},
   "source": [
    "RandomizedSearchCV ve GridSearchCV makine öğrenimi modellerini eğitirken sıklıkla kullanacağınız fonksiyonlar olacaktır. Hatta yeni algoritmalar öğrendikçe, parametrelerle birlikte en başarılı algoritmayı da bu fonksiyonlar aracılığıyla belirlenebilir."
   ]
  }
 ],
 "metadata": {
  "kernelspec": {
   "display_name": "Python 3",
   "language": "python",
   "name": "python3"
  },
  "language_info": {
   "codemirror_mode": {
    "name": "ipython",
    "version": 3
   },
   "file_extension": ".py",
   "mimetype": "text/x-python",
   "name": "python",
   "nbconvert_exporter": "python",
   "pygments_lexer": "ipython3",
   "version": "3.7.1"
  }
 },
 "nbformat": 4,
 "nbformat_minor": 2
}
