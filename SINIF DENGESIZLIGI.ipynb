{
 "cells": [
  {
   "cell_type": "markdown",
   "metadata": {},
   "source": [
    "## <font color='red'> <DIV align='center'> SINIF DENGESIZLIGI"
   ]
  },
  {
   "cell_type": "markdown",
   "metadata": {},
   "source": [
    "ODEV:\n",
    "Sınıf dengesizliğine sahip kalp krizi riski'ne ilişkin veri kümesini kullanarak:\n",
    "\n",
    "Lojistik Regresyon modeli oluşturup modelinizin performansını ölçün,\n",
    "Değişik yöntemler ve sınıf oranlarını deneyerek, sınıf dengesizliğinin üstesinden gelin ve performansı en yüksek yöntemi ve sınıflar arası oranı belirleyin."
   ]
  },
  {
   "cell_type": "markdown",
   "metadata": {},
   "source": [
    "##### age: The person's age in years\n",
    "##### sex: The person's sex (1 = male, 0 = female)\n",
    "##### cp: The chest pain experienced (Value 1: typical angina, Value 2: atypical angina, Value 3: non-anginal pain, Value 4: asymptomatic)\n",
    "##### trestbps: The person's resting blood pressure (mm Hg on admission to the hospital)\n",
    "##### chol: The person's cholesterol measurement in mg/dl\n",
    "##### fbs: The person's fasting blood sugar (> 120 mg/dl, 1 = true; 0 = false)\n",
    "##### restecg: Resting electrocardiographic measurement (0 = normal, 1 = having ST-T wave abnormality, 2 = showing probable or definite left ventricular hypertrophy by Estes' criteria)\n",
    "##### thalach: The person's maximum heart rate achieved\n",
    "##### exang: Exercise induced angina (1 = yes; 0 = no)\n",
    "##### oldpeak: ST depression induced by exercise relative to rest ('ST' relates to positions on the ECG plot. See more here)\n",
    "##### slope: the slope of the peak exercise ST segment (Value 1: upsloping, Value 2: flat, Value 3: downsloping)\n",
    "##### ca: The number of major vessels (0-3)\n",
    "##### thal: A blood disorder called thalassemia (3 = normal; 6 = fixed defect; 7 = reversable defect)\n",
    "##### target: Heart disease (0 = no, 1 = yes)"
   ]
  },
  {
   "cell_type": "code",
   "execution_count": 1,
   "metadata": {},
   "outputs": [],
   "source": [
    "import pandas as pd\n",
    "import numpy as np\n",
    "import matplotlib\n",
    "import matplotlib.pyplot as plt\n",
    "import seaborn as sns\n",
    "\n",
    "\n",
    "import warnings\n",
    "warnings.filterwarnings(\"ignore\")"
   ]
  },
  {
   "cell_type": "code",
   "execution_count": 2,
   "metadata": {
    "scrolled": true
   },
   "outputs": [],
   "source": [
    "df = pd.read_csv('data/cleveland-0_vs_4.dat', skiprows=18, delimiter=',', header=None)"
   ]
  },
  {
   "cell_type": "code",
   "execution_count": 3,
   "metadata": {},
   "outputs": [
    {
     "data": {
      "text/html": [
       "<div>\n",
       "<style scoped>\n",
       "    .dataframe tbody tr th:only-of-type {\n",
       "        vertical-align: middle;\n",
       "    }\n",
       "\n",
       "    .dataframe tbody tr th {\n",
       "        vertical-align: top;\n",
       "    }\n",
       "\n",
       "    .dataframe thead th {\n",
       "        text-align: right;\n",
       "    }\n",
       "</style>\n",
       "<table border=\"1\" class=\"dataframe\">\n",
       "  <thead>\n",
       "    <tr style=\"text-align: right;\">\n",
       "      <th></th>\n",
       "      <th>0</th>\n",
       "      <th>1</th>\n",
       "      <th>2</th>\n",
       "      <th>3</th>\n",
       "      <th>4</th>\n",
       "      <th>5</th>\n",
       "      <th>6</th>\n",
       "      <th>7</th>\n",
       "      <th>8</th>\n",
       "      <th>9</th>\n",
       "      <th>10</th>\n",
       "      <th>11</th>\n",
       "      <th>12</th>\n",
       "      <th>13</th>\n",
       "    </tr>\n",
       "  </thead>\n",
       "  <tbody>\n",
       "    <tr>\n",
       "      <th>0</th>\n",
       "      <td>63.0</td>\n",
       "      <td>1.0</td>\n",
       "      <td>1.0</td>\n",
       "      <td>145.0</td>\n",
       "      <td>233.0</td>\n",
       "      <td>1.0</td>\n",
       "      <td>2.0</td>\n",
       "      <td>150.0</td>\n",
       "      <td>0.0</td>\n",
       "      <td>2.3</td>\n",
       "      <td>3.0</td>\n",
       "      <td>0.0</td>\n",
       "      <td>6.0</td>\n",
       "      <td>negative</td>\n",
       "    </tr>\n",
       "    <tr>\n",
       "      <th>1</th>\n",
       "      <td>37.0</td>\n",
       "      <td>1.0</td>\n",
       "      <td>3.0</td>\n",
       "      <td>130.0</td>\n",
       "      <td>250.0</td>\n",
       "      <td>0.0</td>\n",
       "      <td>0.0</td>\n",
       "      <td>187.0</td>\n",
       "      <td>0.0</td>\n",
       "      <td>3.5</td>\n",
       "      <td>3.0</td>\n",
       "      <td>0.0</td>\n",
       "      <td>3.0</td>\n",
       "      <td>negative</td>\n",
       "    </tr>\n",
       "    <tr>\n",
       "      <th>2</th>\n",
       "      <td>41.0</td>\n",
       "      <td>0.0</td>\n",
       "      <td>2.0</td>\n",
       "      <td>130.0</td>\n",
       "      <td>204.0</td>\n",
       "      <td>0.0</td>\n",
       "      <td>2.0</td>\n",
       "      <td>172.0</td>\n",
       "      <td>0.0</td>\n",
       "      <td>1.4</td>\n",
       "      <td>1.0</td>\n",
       "      <td>0.0</td>\n",
       "      <td>3.0</td>\n",
       "      <td>negative</td>\n",
       "    </tr>\n",
       "    <tr>\n",
       "      <th>3</th>\n",
       "      <td>56.0</td>\n",
       "      <td>1.0</td>\n",
       "      <td>2.0</td>\n",
       "      <td>120.0</td>\n",
       "      <td>236.0</td>\n",
       "      <td>0.0</td>\n",
       "      <td>0.0</td>\n",
       "      <td>178.0</td>\n",
       "      <td>0.0</td>\n",
       "      <td>0.8</td>\n",
       "      <td>1.0</td>\n",
       "      <td>0.0</td>\n",
       "      <td>3.0</td>\n",
       "      <td>negative</td>\n",
       "    </tr>\n",
       "    <tr>\n",
       "      <th>4</th>\n",
       "      <td>57.0</td>\n",
       "      <td>0.0</td>\n",
       "      <td>4.0</td>\n",
       "      <td>120.0</td>\n",
       "      <td>354.0</td>\n",
       "      <td>0.0</td>\n",
       "      <td>0.0</td>\n",
       "      <td>163.0</td>\n",
       "      <td>1.0</td>\n",
       "      <td>0.6</td>\n",
       "      <td>1.0</td>\n",
       "      <td>0.0</td>\n",
       "      <td>3.0</td>\n",
       "      <td>negative</td>\n",
       "    </tr>\n",
       "  </tbody>\n",
       "</table>\n",
       "</div>"
      ],
      "text/plain": [
       "     0    1    2      3      4    5    6      7    8    9    10   11   12  \\\n",
       "0  63.0  1.0  1.0  145.0  233.0  1.0  2.0  150.0  0.0  2.3  3.0  0.0  6.0   \n",
       "1  37.0  1.0  3.0  130.0  250.0  0.0  0.0  187.0  0.0  3.5  3.0  0.0  3.0   \n",
       "2  41.0  0.0  2.0  130.0  204.0  0.0  2.0  172.0  0.0  1.4  1.0  0.0  3.0   \n",
       "3  56.0  1.0  2.0  120.0  236.0  0.0  0.0  178.0  0.0  0.8  1.0  0.0  3.0   \n",
       "4  57.0  0.0  4.0  120.0  354.0  0.0  0.0  163.0  1.0  0.6  1.0  0.0  3.0   \n",
       "\n",
       "         13  \n",
       "0  negative  \n",
       "1  negative  \n",
       "2  negative  \n",
       "3  negative  \n",
       "4  negative  "
      ]
     },
     "execution_count": 3,
     "metadata": {},
     "output_type": "execute_result"
    }
   ],
   "source": [
    "df.head(5)"
   ]
  },
  {
   "cell_type": "code",
   "execution_count": 4,
   "metadata": {},
   "outputs": [],
   "source": [
    "df.columns= ['age','sex','cp','trestbps','chol','fbs','restecg','thalach','exang','oldpeak','slope','ca','thal', 'target']\n"
   ]
  },
  {
   "cell_type": "code",
   "execution_count": 5,
   "metadata": {},
   "outputs": [
    {
     "data": {
      "text/html": [
       "<div>\n",
       "<style scoped>\n",
       "    .dataframe tbody tr th:only-of-type {\n",
       "        vertical-align: middle;\n",
       "    }\n",
       "\n",
       "    .dataframe tbody tr th {\n",
       "        vertical-align: top;\n",
       "    }\n",
       "\n",
       "    .dataframe thead th {\n",
       "        text-align: right;\n",
       "    }\n",
       "</style>\n",
       "<table border=\"1\" class=\"dataframe\">\n",
       "  <thead>\n",
       "    <tr style=\"text-align: right;\">\n",
       "      <th></th>\n",
       "      <th>age</th>\n",
       "      <th>sex</th>\n",
       "      <th>cp</th>\n",
       "      <th>trestbps</th>\n",
       "      <th>chol</th>\n",
       "      <th>fbs</th>\n",
       "      <th>restecg</th>\n",
       "      <th>thalach</th>\n",
       "      <th>exang</th>\n",
       "      <th>oldpeak</th>\n",
       "      <th>slope</th>\n",
       "      <th>ca</th>\n",
       "      <th>thal</th>\n",
       "      <th>target</th>\n",
       "    </tr>\n",
       "  </thead>\n",
       "  <tbody>\n",
       "    <tr>\n",
       "      <th>0</th>\n",
       "      <td>63.0</td>\n",
       "      <td>1.0</td>\n",
       "      <td>1.0</td>\n",
       "      <td>145.0</td>\n",
       "      <td>233.0</td>\n",
       "      <td>1.0</td>\n",
       "      <td>2.0</td>\n",
       "      <td>150.0</td>\n",
       "      <td>0.0</td>\n",
       "      <td>2.3</td>\n",
       "      <td>3.0</td>\n",
       "      <td>0.0</td>\n",
       "      <td>6.0</td>\n",
       "      <td>negative</td>\n",
       "    </tr>\n",
       "    <tr>\n",
       "      <th>1</th>\n",
       "      <td>37.0</td>\n",
       "      <td>1.0</td>\n",
       "      <td>3.0</td>\n",
       "      <td>130.0</td>\n",
       "      <td>250.0</td>\n",
       "      <td>0.0</td>\n",
       "      <td>0.0</td>\n",
       "      <td>187.0</td>\n",
       "      <td>0.0</td>\n",
       "      <td>3.5</td>\n",
       "      <td>3.0</td>\n",
       "      <td>0.0</td>\n",
       "      <td>3.0</td>\n",
       "      <td>negative</td>\n",
       "    </tr>\n",
       "    <tr>\n",
       "      <th>2</th>\n",
       "      <td>41.0</td>\n",
       "      <td>0.0</td>\n",
       "      <td>2.0</td>\n",
       "      <td>130.0</td>\n",
       "      <td>204.0</td>\n",
       "      <td>0.0</td>\n",
       "      <td>2.0</td>\n",
       "      <td>172.0</td>\n",
       "      <td>0.0</td>\n",
       "      <td>1.4</td>\n",
       "      <td>1.0</td>\n",
       "      <td>0.0</td>\n",
       "      <td>3.0</td>\n",
       "      <td>negative</td>\n",
       "    </tr>\n",
       "    <tr>\n",
       "      <th>3</th>\n",
       "      <td>56.0</td>\n",
       "      <td>1.0</td>\n",
       "      <td>2.0</td>\n",
       "      <td>120.0</td>\n",
       "      <td>236.0</td>\n",
       "      <td>0.0</td>\n",
       "      <td>0.0</td>\n",
       "      <td>178.0</td>\n",
       "      <td>0.0</td>\n",
       "      <td>0.8</td>\n",
       "      <td>1.0</td>\n",
       "      <td>0.0</td>\n",
       "      <td>3.0</td>\n",
       "      <td>negative</td>\n",
       "    </tr>\n",
       "    <tr>\n",
       "      <th>4</th>\n",
       "      <td>57.0</td>\n",
       "      <td>0.0</td>\n",
       "      <td>4.0</td>\n",
       "      <td>120.0</td>\n",
       "      <td>354.0</td>\n",
       "      <td>0.0</td>\n",
       "      <td>0.0</td>\n",
       "      <td>163.0</td>\n",
       "      <td>1.0</td>\n",
       "      <td>0.6</td>\n",
       "      <td>1.0</td>\n",
       "      <td>0.0</td>\n",
       "      <td>3.0</td>\n",
       "      <td>negative</td>\n",
       "    </tr>\n",
       "  </tbody>\n",
       "</table>\n",
       "</div>"
      ],
      "text/plain": [
       "    age  sex   cp  trestbps   chol  fbs  restecg  thalach  exang  oldpeak  \\\n",
       "0  63.0  1.0  1.0     145.0  233.0  1.0      2.0    150.0    0.0      2.3   \n",
       "1  37.0  1.0  3.0     130.0  250.0  0.0      0.0    187.0    0.0      3.5   \n",
       "2  41.0  0.0  2.0     130.0  204.0  0.0      2.0    172.0    0.0      1.4   \n",
       "3  56.0  1.0  2.0     120.0  236.0  0.0      0.0    178.0    0.0      0.8   \n",
       "4  57.0  0.0  4.0     120.0  354.0  0.0      0.0    163.0    1.0      0.6   \n",
       "\n",
       "   slope   ca thal    target  \n",
       "0    3.0  0.0  6.0  negative  \n",
       "1    3.0  0.0  3.0  negative  \n",
       "2    1.0  0.0  3.0  negative  \n",
       "3    1.0  0.0  3.0  negative  \n",
       "4    1.0  0.0  3.0  negative  "
      ]
     },
     "execution_count": 5,
     "metadata": {},
     "output_type": "execute_result"
    }
   ],
   "source": [
    "df.head(5)"
   ]
  },
  {
   "cell_type": "code",
   "execution_count": 6,
   "metadata": {
    "scrolled": true
   },
   "outputs": [
    {
     "data": {
      "text/plain": [
       "age         0\n",
       "sex         0\n",
       "cp          0\n",
       "trestbps    0\n",
       "chol        0\n",
       "fbs         0\n",
       "restecg     0\n",
       "thalach     0\n",
       "exang       0\n",
       "oldpeak     0\n",
       "slope       0\n",
       "ca          0\n",
       "thal        0\n",
       "target      0\n",
       "dtype: int64"
      ]
     },
     "execution_count": 6,
     "metadata": {},
     "output_type": "execute_result"
    }
   ],
   "source": [
    "df.isnull().sum()"
   ]
  },
  {
   "cell_type": "code",
   "execution_count": 7,
   "metadata": {},
   "outputs": [
    {
     "data": {
      "text/html": [
       "<div>\n",
       "<style scoped>\n",
       "    .dataframe tbody tr th:only-of-type {\n",
       "        vertical-align: middle;\n",
       "    }\n",
       "\n",
       "    .dataframe tbody tr th {\n",
       "        vertical-align: top;\n",
       "    }\n",
       "\n",
       "    .dataframe thead th {\n",
       "        text-align: right;\n",
       "    }\n",
       "</style>\n",
       "<table border=\"1\" class=\"dataframe\">\n",
       "  <thead>\n",
       "    <tr style=\"text-align: right;\">\n",
       "      <th></th>\n",
       "      <th>age</th>\n",
       "      <th>sex</th>\n",
       "      <th>cp</th>\n",
       "      <th>trestbps</th>\n",
       "      <th>chol</th>\n",
       "      <th>fbs</th>\n",
       "      <th>restecg</th>\n",
       "      <th>thalach</th>\n",
       "      <th>exang</th>\n",
       "      <th>oldpeak</th>\n",
       "      <th>slope</th>\n",
       "      <th>ca</th>\n",
       "      <th>thal</th>\n",
       "      <th>target</th>\n",
       "    </tr>\n",
       "  </thead>\n",
       "  <tbody>\n",
       "    <tr>\n",
       "      <th>164</th>\n",
       "      <td>60.0</td>\n",
       "      <td>1.0</td>\n",
       "      <td>4.0</td>\n",
       "      <td>130.0</td>\n",
       "      <td>206.0</td>\n",
       "      <td>0.0</td>\n",
       "      <td>2.0</td>\n",
       "      <td>132.0</td>\n",
       "      <td>1.0</td>\n",
       "      <td>2.4</td>\n",
       "      <td>2.0</td>\n",
       "      <td>2.0</td>\n",
       "      <td>7.0</td>\n",
       "      <td>positive</td>\n",
       "    </tr>\n",
       "    <tr>\n",
       "      <th>165</th>\n",
       "      <td>65.0</td>\n",
       "      <td>0.0</td>\n",
       "      <td>4.0</td>\n",
       "      <td>150.0</td>\n",
       "      <td>225.0</td>\n",
       "      <td>0.0</td>\n",
       "      <td>2.0</td>\n",
       "      <td>114.0</td>\n",
       "      <td>0.0</td>\n",
       "      <td>1.0</td>\n",
       "      <td>2.0</td>\n",
       "      <td>3.0</td>\n",
       "      <td>7.0</td>\n",
       "      <td>positive</td>\n",
       "    </tr>\n",
       "    <tr>\n",
       "      <th>166</th>\n",
       "      <td>58.0</td>\n",
       "      <td>1.0</td>\n",
       "      <td>3.0</td>\n",
       "      <td>112.0</td>\n",
       "      <td>230.0</td>\n",
       "      <td>0.0</td>\n",
       "      <td>2.0</td>\n",
       "      <td>165.0</td>\n",
       "      <td>0.0</td>\n",
       "      <td>2.5</td>\n",
       "      <td>2.0</td>\n",
       "      <td>1.0</td>\n",
       "      <td>7.0</td>\n",
       "      <td>positive</td>\n",
       "    </tr>\n",
       "    <tr>\n",
       "      <th>167</th>\n",
       "      <td>50.0</td>\n",
       "      <td>1.0</td>\n",
       "      <td>4.0</td>\n",
       "      <td>150.0</td>\n",
       "      <td>243.0</td>\n",
       "      <td>0.0</td>\n",
       "      <td>2.0</td>\n",
       "      <td>128.0</td>\n",
       "      <td>0.0</td>\n",
       "      <td>2.6</td>\n",
       "      <td>2.0</td>\n",
       "      <td>0.0</td>\n",
       "      <td>7.0</td>\n",
       "      <td>positive</td>\n",
       "    </tr>\n",
       "    <tr>\n",
       "      <th>168</th>\n",
       "      <td>63.0</td>\n",
       "      <td>0.0</td>\n",
       "      <td>4.0</td>\n",
       "      <td>150.0</td>\n",
       "      <td>407.0</td>\n",
       "      <td>0.0</td>\n",
       "      <td>2.0</td>\n",
       "      <td>154.0</td>\n",
       "      <td>0.0</td>\n",
       "      <td>4.0</td>\n",
       "      <td>2.0</td>\n",
       "      <td>3.0</td>\n",
       "      <td>7.0</td>\n",
       "      <td>positive</td>\n",
       "    </tr>\n",
       "    <tr>\n",
       "      <th>169</th>\n",
       "      <td>57.0</td>\n",
       "      <td>1.0</td>\n",
       "      <td>4.0</td>\n",
       "      <td>165.0</td>\n",
       "      <td>289.0</td>\n",
       "      <td>1.0</td>\n",
       "      <td>2.0</td>\n",
       "      <td>124.0</td>\n",
       "      <td>0.0</td>\n",
       "      <td>1.0</td>\n",
       "      <td>2.0</td>\n",
       "      <td>3.0</td>\n",
       "      <td>7.0</td>\n",
       "      <td>positive</td>\n",
       "    </tr>\n",
       "    <tr>\n",
       "      <th>170</th>\n",
       "      <td>55.0</td>\n",
       "      <td>1.0</td>\n",
       "      <td>4.0</td>\n",
       "      <td>160.0</td>\n",
       "      <td>289.0</td>\n",
       "      <td>0.0</td>\n",
       "      <td>2.0</td>\n",
       "      <td>145.0</td>\n",
       "      <td>1.0</td>\n",
       "      <td>0.8</td>\n",
       "      <td>2.0</td>\n",
       "      <td>1.0</td>\n",
       "      <td>7.0</td>\n",
       "      <td>positive</td>\n",
       "    </tr>\n",
       "    <tr>\n",
       "      <th>171</th>\n",
       "      <td>77.0</td>\n",
       "      <td>1.0</td>\n",
       "      <td>4.0</td>\n",
       "      <td>125.0</td>\n",
       "      <td>304.0</td>\n",
       "      <td>0.0</td>\n",
       "      <td>2.0</td>\n",
       "      <td>162.0</td>\n",
       "      <td>1.0</td>\n",
       "      <td>0.0</td>\n",
       "      <td>1.0</td>\n",
       "      <td>3.0</td>\n",
       "      <td>3.0</td>\n",
       "      <td>positive</td>\n",
       "    </tr>\n",
       "    <tr>\n",
       "      <th>172</th>\n",
       "      <td>64.0</td>\n",
       "      <td>1.0</td>\n",
       "      <td>4.0</td>\n",
       "      <td>145.0</td>\n",
       "      <td>212.0</td>\n",
       "      <td>0.0</td>\n",
       "      <td>2.0</td>\n",
       "      <td>132.0</td>\n",
       "      <td>0.0</td>\n",
       "      <td>2.0</td>\n",
       "      <td>2.0</td>\n",
       "      <td>2.0</td>\n",
       "      <td>6.0</td>\n",
       "      <td>positive</td>\n",
       "    </tr>\n",
       "    <tr>\n",
       "      <th>173</th>\n",
       "      <td>38.0</td>\n",
       "      <td>1.0</td>\n",
       "      <td>1.0</td>\n",
       "      <td>120.0</td>\n",
       "      <td>231.0</td>\n",
       "      <td>0.0</td>\n",
       "      <td>0.0</td>\n",
       "      <td>182.0</td>\n",
       "      <td>1.0</td>\n",
       "      <td>3.8</td>\n",
       "      <td>2.0</td>\n",
       "      <td>0.0</td>\n",
       "      <td>7.0</td>\n",
       "      <td>positive</td>\n",
       "    </tr>\n",
       "    <tr>\n",
       "      <th>174</th>\n",
       "      <td>61.0</td>\n",
       "      <td>1.0</td>\n",
       "      <td>4.0</td>\n",
       "      <td>138.0</td>\n",
       "      <td>166.0</td>\n",
       "      <td>0.0</td>\n",
       "      <td>2.0</td>\n",
       "      <td>125.0</td>\n",
       "      <td>1.0</td>\n",
       "      <td>3.6</td>\n",
       "      <td>2.0</td>\n",
       "      <td>1.0</td>\n",
       "      <td>3.0</td>\n",
       "      <td>positive</td>\n",
       "    </tr>\n",
       "    <tr>\n",
       "      <th>175</th>\n",
       "      <td>58.0</td>\n",
       "      <td>1.0</td>\n",
       "      <td>4.0</td>\n",
       "      <td>114.0</td>\n",
       "      <td>318.0</td>\n",
       "      <td>0.0</td>\n",
       "      <td>1.0</td>\n",
       "      <td>140.0</td>\n",
       "      <td>0.0</td>\n",
       "      <td>4.4</td>\n",
       "      <td>3.0</td>\n",
       "      <td>3.0</td>\n",
       "      <td>6.0</td>\n",
       "      <td>positive</td>\n",
       "    </tr>\n",
       "    <tr>\n",
       "      <th>176</th>\n",
       "      <td>70.0</td>\n",
       "      <td>1.0</td>\n",
       "      <td>4.0</td>\n",
       "      <td>145.0</td>\n",
       "      <td>174.0</td>\n",
       "      <td>0.0</td>\n",
       "      <td>0.0</td>\n",
       "      <td>125.0</td>\n",
       "      <td>1.0</td>\n",
       "      <td>2.6</td>\n",
       "      <td>3.0</td>\n",
       "      <td>0.0</td>\n",
       "      <td>7.0</td>\n",
       "      <td>positive</td>\n",
       "    </tr>\n",
       "  </tbody>\n",
       "</table>\n",
       "</div>"
      ],
      "text/plain": [
       "      age  sex   cp  trestbps   chol  fbs  restecg  thalach  exang  oldpeak  \\\n",
       "164  60.0  1.0  4.0     130.0  206.0  0.0      2.0    132.0    1.0      2.4   \n",
       "165  65.0  0.0  4.0     150.0  225.0  0.0      2.0    114.0    0.0      1.0   \n",
       "166  58.0  1.0  3.0     112.0  230.0  0.0      2.0    165.0    0.0      2.5   \n",
       "167  50.0  1.0  4.0     150.0  243.0  0.0      2.0    128.0    0.0      2.6   \n",
       "168  63.0  0.0  4.0     150.0  407.0  0.0      2.0    154.0    0.0      4.0   \n",
       "169  57.0  1.0  4.0     165.0  289.0  1.0      2.0    124.0    0.0      1.0   \n",
       "170  55.0  1.0  4.0     160.0  289.0  0.0      2.0    145.0    1.0      0.8   \n",
       "171  77.0  1.0  4.0     125.0  304.0  0.0      2.0    162.0    1.0      0.0   \n",
       "172  64.0  1.0  4.0     145.0  212.0  0.0      2.0    132.0    0.0      2.0   \n",
       "173  38.0  1.0  1.0     120.0  231.0  0.0      0.0    182.0    1.0      3.8   \n",
       "174  61.0  1.0  4.0     138.0  166.0  0.0      2.0    125.0    1.0      3.6   \n",
       "175  58.0  1.0  4.0     114.0  318.0  0.0      1.0    140.0    0.0      4.4   \n",
       "176  70.0  1.0  4.0     145.0  174.0  0.0      0.0    125.0    1.0      2.6   \n",
       "\n",
       "     slope   ca thal    target  \n",
       "164    2.0  2.0  7.0  positive  \n",
       "165    2.0  3.0  7.0  positive  \n",
       "166    2.0  1.0  7.0  positive  \n",
       "167    2.0  0.0  7.0  positive  \n",
       "168    2.0  3.0  7.0  positive  \n",
       "169    2.0  3.0  7.0  positive  \n",
       "170    2.0  1.0  7.0  positive  \n",
       "171    1.0  3.0  3.0  positive  \n",
       "172    2.0  2.0  6.0  positive  \n",
       "173    2.0  0.0  7.0  positive  \n",
       "174    2.0  1.0  3.0  positive  \n",
       "175    3.0  3.0  6.0  positive  \n",
       "176    3.0  0.0  7.0  positive  "
      ]
     },
     "execution_count": 7,
     "metadata": {},
     "output_type": "execute_result"
    }
   ],
   "source": [
    "df[df['target']== 'positive']"
   ]
  },
  {
   "cell_type": "code",
   "execution_count": 8,
   "metadata": {},
   "outputs": [
    {
     "data": {
      "image/png": "[encoded data removed]",
      "text/plain": [
       "<Figure size 432x288 with 1 Axes>"
      ]
     },
     "metadata": {
      "needs_background": "light"
     },
     "output_type": "display_data"
    }
   ],
   "source": [
    "import seaborn as sns\n",
    "ax = sns.swarmplot(x=\"sex\", y=\"age\", hue= \"target\", data=df)"
   ]
  },
  {
   "cell_type": "code",
   "execution_count": 9,
   "metadata": {},
   "outputs": [
    {
     "data": {
      "image/png": "[encoded data removed]",
      "text/plain": [
       "<Figure size 432x288 with 1 Axes>"
      ]
     },
     "metadata": {
      "needs_background": "light"
     },
     "output_type": "display_data"
    }
   ],
   "source": [
    "ax = sns.swarmplot(x=\"sex\", y=\"age\", hue= \"target\",dodge=True, data=df)"
   ]
  },
  {
   "cell_type": "code",
   "execution_count": 10,
   "metadata": {},
   "outputs": [],
   "source": [
    "df['target']= df['target'].map({'negative': 0, 'positive': 1})"
   ]
  },
  {
   "cell_type": "code",
   "execution_count": 11,
   "metadata": {
    "scrolled": true
   },
   "outputs": [
    {
     "data": {
      "text/html": [
       "<div>\n",
       "<style scoped>\n",
       "    .dataframe tbody tr th:only-of-type {\n",
       "        vertical-align: middle;\n",
       "    }\n",
       "\n",
       "    .dataframe tbody tr th {\n",
       "        vertical-align: top;\n",
       "    }\n",
       "\n",
       "    .dataframe thead th {\n",
       "        text-align: right;\n",
       "    }\n",
       "</style>\n",
       "<table border=\"1\" class=\"dataframe\">\n",
       "  <thead>\n",
       "    <tr style=\"text-align: right;\">\n",
       "      <th></th>\n",
       "      <th>age</th>\n",
       "      <th>sex</th>\n",
       "      <th>cp</th>\n",
       "      <th>trestbps</th>\n",
       "      <th>chol</th>\n",
       "      <th>fbs</th>\n",
       "      <th>restecg</th>\n",
       "      <th>thalach</th>\n",
       "      <th>exang</th>\n",
       "      <th>oldpeak</th>\n",
       "      <th>slope</th>\n",
       "      <th>ca</th>\n",
       "      <th>thal</th>\n",
       "      <th>target</th>\n",
       "    </tr>\n",
       "  </thead>\n",
       "  <tbody>\n",
       "    <tr>\n",
       "      <th>172</th>\n",
       "      <td>64.0</td>\n",
       "      <td>1.0</td>\n",
       "      <td>4.0</td>\n",
       "      <td>145.0</td>\n",
       "      <td>212.0</td>\n",
       "      <td>0.0</td>\n",
       "      <td>2.0</td>\n",
       "      <td>132.0</td>\n",
       "      <td>0.0</td>\n",
       "      <td>2.0</td>\n",
       "      <td>2.0</td>\n",
       "      <td>2.0</td>\n",
       "      <td>6.0</td>\n",
       "      <td>1</td>\n",
       "    </tr>\n",
       "    <tr>\n",
       "      <th>173</th>\n",
       "      <td>38.0</td>\n",
       "      <td>1.0</td>\n",
       "      <td>1.0</td>\n",
       "      <td>120.0</td>\n",
       "      <td>231.0</td>\n",
       "      <td>0.0</td>\n",
       "      <td>0.0</td>\n",
       "      <td>182.0</td>\n",
       "      <td>1.0</td>\n",
       "      <td>3.8</td>\n",
       "      <td>2.0</td>\n",
       "      <td>0.0</td>\n",
       "      <td>7.0</td>\n",
       "      <td>1</td>\n",
       "    </tr>\n",
       "    <tr>\n",
       "      <th>174</th>\n",
       "      <td>61.0</td>\n",
       "      <td>1.0</td>\n",
       "      <td>4.0</td>\n",
       "      <td>138.0</td>\n",
       "      <td>166.0</td>\n",
       "      <td>0.0</td>\n",
       "      <td>2.0</td>\n",
       "      <td>125.0</td>\n",
       "      <td>1.0</td>\n",
       "      <td>3.6</td>\n",
       "      <td>2.0</td>\n",
       "      <td>1.0</td>\n",
       "      <td>3.0</td>\n",
       "      <td>1</td>\n",
       "    </tr>\n",
       "    <tr>\n",
       "      <th>175</th>\n",
       "      <td>58.0</td>\n",
       "      <td>1.0</td>\n",
       "      <td>4.0</td>\n",
       "      <td>114.0</td>\n",
       "      <td>318.0</td>\n",
       "      <td>0.0</td>\n",
       "      <td>1.0</td>\n",
       "      <td>140.0</td>\n",
       "      <td>0.0</td>\n",
       "      <td>4.4</td>\n",
       "      <td>3.0</td>\n",
       "      <td>3.0</td>\n",
       "      <td>6.0</td>\n",
       "      <td>1</td>\n",
       "    </tr>\n",
       "    <tr>\n",
       "      <th>176</th>\n",
       "      <td>70.0</td>\n",
       "      <td>1.0</td>\n",
       "      <td>4.0</td>\n",
       "      <td>145.0</td>\n",
       "      <td>174.0</td>\n",
       "      <td>0.0</td>\n",
       "      <td>0.0</td>\n",
       "      <td>125.0</td>\n",
       "      <td>1.0</td>\n",
       "      <td>2.6</td>\n",
       "      <td>3.0</td>\n",
       "      <td>0.0</td>\n",
       "      <td>7.0</td>\n",
       "      <td>1</td>\n",
       "    </tr>\n",
       "  </tbody>\n",
       "</table>\n",
       "</div>"
      ],
      "text/plain": [
       "      age  sex   cp  trestbps   chol  fbs  restecg  thalach  exang  oldpeak  \\\n",
       "172  64.0  1.0  4.0     145.0  212.0  0.0      2.0    132.0    0.0      2.0   \n",
       "173  38.0  1.0  1.0     120.0  231.0  0.0      0.0    182.0    1.0      3.8   \n",
       "174  61.0  1.0  4.0     138.0  166.0  0.0      2.0    125.0    1.0      3.6   \n",
       "175  58.0  1.0  4.0     114.0  318.0  0.0      1.0    140.0    0.0      4.4   \n",
       "176  70.0  1.0  4.0     145.0  174.0  0.0      0.0    125.0    1.0      2.6   \n",
       "\n",
       "     slope   ca thal  target  \n",
       "172    2.0  2.0  6.0       1  \n",
       "173    2.0  0.0  7.0       1  \n",
       "174    2.0  1.0  3.0       1  \n",
       "175    3.0  3.0  6.0       1  \n",
       "176    3.0  0.0  7.0       1  "
      ]
     },
     "execution_count": 11,
     "metadata": {},
     "output_type": "execute_result"
    }
   ],
   "source": [
    "df.tail(5)"
   ]
  },
  {
   "cell_type": "code",
   "execution_count": 12,
   "metadata": {
    "scrolled": true
   },
   "outputs": [
    {
     "data": {
      "text/html": [
       "<div>\n",
       "<style scoped>\n",
       "    .dataframe tbody tr th:only-of-type {\n",
       "        vertical-align: middle;\n",
       "    }\n",
       "\n",
       "    .dataframe tbody tr th {\n",
       "        vertical-align: top;\n",
       "    }\n",
       "\n",
       "    .dataframe thead th {\n",
       "        text-align: right;\n",
       "    }\n",
       "</style>\n",
       "<table border=\"1\" class=\"dataframe\">\n",
       "  <thead>\n",
       "    <tr style=\"text-align: right;\">\n",
       "      <th></th>\n",
       "      <th>age</th>\n",
       "      <th>sex</th>\n",
       "      <th>cp</th>\n",
       "      <th>trestbps</th>\n",
       "      <th>chol</th>\n",
       "      <th>fbs</th>\n",
       "      <th>restecg</th>\n",
       "      <th>thalach</th>\n",
       "      <th>exang</th>\n",
       "      <th>oldpeak</th>\n",
       "      <th>slope</th>\n",
       "      <th>target</th>\n",
       "    </tr>\n",
       "  </thead>\n",
       "  <tbody>\n",
       "    <tr>\n",
       "      <th>age</th>\n",
       "      <td>1.000000</td>\n",
       "      <td>-0.149906</td>\n",
       "      <td>0.119968</td>\n",
       "      <td>0.288781</td>\n",
       "      <td>0.236702</td>\n",
       "      <td>0.127511</td>\n",
       "      <td>0.167948</td>\n",
       "      <td>-0.531418</td>\n",
       "      <td>0.085397</td>\n",
       "      <td>0.179274</td>\n",
       "      <td>0.138686</td>\n",
       "      <td>0.192482</td>\n",
       "    </tr>\n",
       "    <tr>\n",
       "      <th>sex</th>\n",
       "      <td>-0.149906</td>\n",
       "      <td>1.000000</td>\n",
       "      <td>-0.078854</td>\n",
       "      <td>0.033050</td>\n",
       "      <td>-0.233371</td>\n",
       "      <td>0.134962</td>\n",
       "      <td>-0.010933</td>\n",
       "      <td>0.154407</td>\n",
       "      <td>0.127632</td>\n",
       "      <td>0.098240</td>\n",
       "      <td>0.034990</td>\n",
       "      <td>0.150826</td>\n",
       "    </tr>\n",
       "    <tr>\n",
       "      <th>cp</th>\n",
       "      <td>0.119968</td>\n",
       "      <td>-0.078854</td>\n",
       "      <td>1.000000</td>\n",
       "      <td>-0.061225</td>\n",
       "      <td>0.089064</td>\n",
       "      <td>-0.116393</td>\n",
       "      <td>0.032421</td>\n",
       "      <td>-0.235479</td>\n",
       "      <td>0.131858</td>\n",
       "      <td>0.013466</td>\n",
       "      <td>0.033984</td>\n",
       "      <td>0.250407</td>\n",
       "    </tr>\n",
       "    <tr>\n",
       "      <th>trestbps</th>\n",
       "      <td>0.288781</td>\n",
       "      <td>0.033050</td>\n",
       "      <td>-0.061225</td>\n",
       "      <td>1.000000</td>\n",
       "      <td>0.105242</td>\n",
       "      <td>0.147393</td>\n",
       "      <td>0.158507</td>\n",
       "      <td>-0.055091</td>\n",
       "      <td>-0.017273</td>\n",
       "      <td>0.170804</td>\n",
       "      <td>0.049826</td>\n",
       "      <td>0.151685</td>\n",
       "    </tr>\n",
       "    <tr>\n",
       "      <th>chol</th>\n",
       "      <td>0.236702</td>\n",
       "      <td>-0.233371</td>\n",
       "      <td>0.089064</td>\n",
       "      <td>0.105242</td>\n",
       "      <td>1.000000</td>\n",
       "      <td>-0.011054</td>\n",
       "      <td>0.198376</td>\n",
       "      <td>0.034626</td>\n",
       "      <td>-0.043500</td>\n",
       "      <td>0.069352</td>\n",
       "      <td>-0.040784</td>\n",
       "      <td>0.051716</td>\n",
       "    </tr>\n",
       "    <tr>\n",
       "      <th>fbs</th>\n",
       "      <td>0.127511</td>\n",
       "      <td>0.134962</td>\n",
       "      <td>-0.116393</td>\n",
       "      <td>0.147393</td>\n",
       "      <td>-0.011054</td>\n",
       "      <td>1.000000</td>\n",
       "      <td>0.043008</td>\n",
       "      <td>-0.026620</td>\n",
       "      <td>-0.086148</td>\n",
       "      <td>-0.052191</td>\n",
       "      <td>0.000458</td>\n",
       "      <td>-0.048249</td>\n",
       "    </tr>\n",
       "    <tr>\n",
       "      <th>restecg</th>\n",
       "      <td>0.167948</td>\n",
       "      <td>-0.010933</td>\n",
       "      <td>0.032421</td>\n",
       "      <td>0.158507</td>\n",
       "      <td>0.198376</td>\n",
       "      <td>0.043008</td>\n",
       "      <td>1.000000</td>\n",
       "      <td>-0.125276</td>\n",
       "      <td>0.094392</td>\n",
       "      <td>0.142003</td>\n",
       "      <td>0.175066</td>\n",
       "      <td>0.205844</td>\n",
       "    </tr>\n",
       "    <tr>\n",
       "      <th>thalach</th>\n",
       "      <td>-0.531418</td>\n",
       "      <td>0.154407</td>\n",
       "      <td>-0.235479</td>\n",
       "      <td>-0.055091</td>\n",
       "      <td>0.034626</td>\n",
       "      <td>-0.026620</td>\n",
       "      <td>-0.125276</td>\n",
       "      <td>1.000000</td>\n",
       "      <td>-0.177621</td>\n",
       "      <td>-0.228253</td>\n",
       "      <td>-0.278286</td>\n",
       "      <td>-0.235326</td>\n",
       "    </tr>\n",
       "    <tr>\n",
       "      <th>exang</th>\n",
       "      <td>0.085397</td>\n",
       "      <td>0.127632</td>\n",
       "      <td>0.131858</td>\n",
       "      <td>-0.017273</td>\n",
       "      <td>-0.043500</td>\n",
       "      <td>-0.086148</td>\n",
       "      <td>0.094392</td>\n",
       "      <td>-0.177621</td>\n",
       "      <td>1.000000</td>\n",
       "      <td>0.117338</td>\n",
       "      <td>0.093256</td>\n",
       "      <td>0.226447</td>\n",
       "    </tr>\n",
       "    <tr>\n",
       "      <th>oldpeak</th>\n",
       "      <td>0.179274</td>\n",
       "      <td>0.098240</td>\n",
       "      <td>0.013466</td>\n",
       "      <td>0.170804</td>\n",
       "      <td>0.069352</td>\n",
       "      <td>-0.052191</td>\n",
       "      <td>0.142003</td>\n",
       "      <td>-0.228253</td>\n",
       "      <td>0.117338</td>\n",
       "      <td>1.000000</td>\n",
       "      <td>0.534802</td>\n",
       "      <td>0.487022</td>\n",
       "    </tr>\n",
       "    <tr>\n",
       "      <th>slope</th>\n",
       "      <td>0.138686</td>\n",
       "      <td>0.034990</td>\n",
       "      <td>0.033984</td>\n",
       "      <td>0.049826</td>\n",
       "      <td>-0.040784</td>\n",
       "      <td>0.000458</td>\n",
       "      <td>0.175066</td>\n",
       "      <td>-0.278286</td>\n",
       "      <td>0.093256</td>\n",
       "      <td>0.534802</td>\n",
       "      <td>1.000000</td>\n",
       "      <td>0.285684</td>\n",
       "    </tr>\n",
       "    <tr>\n",
       "      <th>target</th>\n",
       "      <td>0.192482</td>\n",
       "      <td>0.150826</td>\n",
       "      <td>0.250407</td>\n",
       "      <td>0.151685</td>\n",
       "      <td>0.051716</td>\n",
       "      <td>-0.048249</td>\n",
       "      <td>0.205844</td>\n",
       "      <td>-0.235326</td>\n",
       "      <td>0.226447</td>\n",
       "      <td>0.487022</td>\n",
       "      <td>0.285684</td>\n",
       "      <td>1.000000</td>\n",
       "    </tr>\n",
       "  </tbody>\n",
       "</table>\n",
       "</div>"
      ],
      "text/plain": [
       "               age       sex        cp  trestbps      chol       fbs  \\\n",
       "age       1.000000 -0.149906  0.119968  0.288781  0.236702  0.127511   \n",
       "sex      -0.149906  1.000000 -0.078854  0.033050 -0.233371  0.134962   \n",
       "cp        0.119968 -0.078854  1.000000 -0.061225  0.089064 -0.116393   \n",
       "trestbps  0.288781  0.033050 -0.061225  1.000000  0.105242  0.147393   \n",
       "chol      0.236702 -0.233371  0.089064  0.105242  1.000000 -0.011054   \n",
       "fbs       0.127511  0.134962 -0.116393  0.147393 -0.011054  1.000000   \n",
       "restecg   0.167948 -0.010933  0.032421  0.158507  0.198376  0.043008   \n",
       "thalach  -0.531418  0.154407 -0.235479 -0.055091  0.034626 -0.026620   \n",
       "exang     0.085397  0.127632  0.131858 -0.017273 -0.043500 -0.086148   \n",
       "oldpeak   0.179274  0.098240  0.013466  0.170804  0.069352 -0.052191   \n",
       "slope     0.138686  0.034990  0.033984  0.049826 -0.040784  0.000458   \n",
       "target    0.192482  0.150826  0.250407  0.151685  0.051716 -0.048249   \n",
       "\n",
       "           restecg   thalach     exang   oldpeak     slope    target  \n",
       "age       0.167948 -0.531418  0.085397  0.179274  0.138686  0.192482  \n",
       "sex      -0.010933  0.154407  0.127632  0.098240  0.034990  0.150826  \n",
       "cp        0.032421 -0.235479  0.131858  0.013466  0.033984  0.250407  \n",
       "trestbps  0.158507 -0.055091 -0.017273  0.170804  0.049826  0.151685  \n",
       "chol      0.198376  0.034626 -0.043500  0.069352 -0.040784  0.051716  \n",
       "fbs       0.043008 -0.026620 -0.086148 -0.052191  0.000458 -0.048249  \n",
       "restecg   1.000000 -0.125276  0.094392  0.142003  0.175066  0.205844  \n",
       "thalach  -0.125276  1.000000 -0.177621 -0.228253 -0.278286 -0.235326  \n",
       "exang     0.094392 -0.177621  1.000000  0.117338  0.093256  0.226447  \n",
       "oldpeak   0.142003 -0.228253  0.117338  1.000000  0.534802  0.487022  \n",
       "slope     0.175066 -0.278286  0.093256  0.534802  1.000000  0.285684  \n",
       "target    0.205844 -0.235326  0.226447  0.487022  0.285684  1.000000  "
      ]
     },
     "execution_count": 12,
     "metadata": {},
     "output_type": "execute_result"
    }
   ],
   "source": [
    "corr_matrix = df.corr()\n",
    "corr_matrix"
   ]
  },
  {
   "cell_type": "code",
   "execution_count": 13,
   "metadata": {
    "scrolled": true
   },
   "outputs": [
    {
     "data": {
      "text/plain": [
       "Index(['oldpeak', 'slope', 'cp', 'thalach', 'exang', 'restecg', 'age',\n",
       "       'trestbps', 'sex', 'chol', 'fbs'],\n",
       "      dtype='object')"
      ]
     },
     "execution_count": 13,
     "metadata": {},
     "output_type": "execute_result"
    }
   ],
   "source": [
    "corr_list =  corr_matrix.target.abs().sort_values(ascending=False).index[1:]\n",
    "corr_list"
   ]
  },
  {
   "cell_type": "code",
   "execution_count": 14,
   "metadata": {},
   "outputs": [
    {
     "data": {
      "text/plain": [
       "Text(0.5, 1.0, 'General Looking on Life Expectancy in Years')"
      ]
     },
     "execution_count": 14,
     "metadata": {},
     "output_type": "execute_result"
    },
    {
     "data": {
      "image/png": "[encoded data removed]",
      "text/plain": [
       "<Figure size 1440x720 with 1 Axes>"
      ]
     },
     "metadata": {
      "needs_background": "light"
     },
     "output_type": "display_data"
    }
   ],
   "source": [
    "plt.figure(figsize=(20,10))\n",
    "sns.violinplot(x=df[\"sex\"], y=df[\"age\"], data=df, hue=df.target)\n",
    "plt.title('General Looking on Life Expectancy in Years')"
   ]
  },
  {
   "cell_type": "code",
   "execution_count": 15,
   "metadata": {},
   "outputs": [],
   "source": [
    "from sklearn.model_selection import train_test_split\n",
    "from sklearn.linear_model import LogisticRegression\n",
    "from sklearn.metrics import accuracy_score "
   ]
  },
  {
   "cell_type": "code",
   "execution_count": 16,
   "metadata": {},
   "outputs": [
    {
     "data": {
      "text/plain": [
       "Index(['age', 'sex', 'cp', 'trestbps', 'chol', 'fbs', 'restecg', 'thalach',\n",
       "       'exang', 'oldpeak', 'slope', 'ca', 'thal', 'target'],\n",
       "      dtype='object')"
      ]
     },
     "execution_count": 16,
     "metadata": {},
     "output_type": "execute_result"
    }
   ],
   "source": [
    "df.columns"
   ]
  },
  {
   "cell_type": "code",
   "execution_count": 17,
   "metadata": {},
   "outputs": [],
   "source": [
    "X = df[['age', 'sex', 'cp', 'trestbps', 'chol', 'fbs', 'restecg', 'thalach',\n",
    "       'exang', 'oldpeak', 'slope']] \n",
    "y = df.target "
   ]
  },
  {
   "cell_type": "code",
   "execution_count": 18,
   "metadata": {},
   "outputs": [
    {
     "data": {
      "text/plain": [
       "LogisticRegression(C=1.0, class_weight=None, dual=False, fit_intercept=True,\n",
       "          intercept_scaling=1, max_iter=100, multi_class='warn',\n",
       "          n_jobs=None, penalty='l2', random_state=0, solver='warn',\n",
       "          tol=0.0001, verbose=0, warm_start=False)"
      ]
     },
     "execution_count": 18,
     "metadata": {},
     "output_type": "execute_result"
    }
   ],
   "source": [
    "X_train, X_test, y_train, y_test = train_test_split(X,y, test_size=0.2, random_state=0)\n",
    "lr = LogisticRegression(random_state=0)\n",
    "lr.fit(X_train, y_train)"
   ]
  },
  {
   "cell_type": "code",
   "execution_count": 19,
   "metadata": {},
   "outputs": [
    {
     "name": "stdout",
     "output_type": "stream",
     "text": [
      "One-vs-rest\n",
      "--------------------\n",
      "Modelin eğitim verisindeki doğruluğu : 0.95\n",
      "Modelin test verisindeki doğruluğu   : 0.97\n"
     ]
    }
   ],
   "source": [
    "egitim_dogruluk = lr.score(X_train, y_train)\n",
    "test_dogruluk = lr.score(X_test, y_test)\n",
    "print('One-vs-rest', '-'*20, \n",
    "      'Modelin eğitim verisindeki doğruluğu : {:.2f}'.format(egitim_dogruluk), \n",
    "      'Modelin test verisindeki doğruluğu   : {:.2f}'.format(test_dogruluk), sep='\\n')"
   ]
  },
  {
   "cell_type": "code",
   "execution_count": 20,
   "metadata": {},
   "outputs": [
    {
     "data": {
      "image/png": "[encoded data removed]",
      "text/plain": [
       "<Figure size 432x288 with 2 Axes>"
      ]
     },
     "metadata": {
      "needs_background": "light"
     },
     "output_type": "display_data"
    }
   ],
   "source": [
    "from sklearn.metrics import confusion_matrix \n",
    "\n",
    "\n",
    "predictions = lr.predict(X_test)\n",
    "score = round(accuracy_score(y_test, predictions), 3)\n",
    "cm1 = confusion_matrix(y_test, predictions)\n",
    "sns.heatmap(cm1, annot=True, fmt=\".0f\")\n",
    "plt.xlabel('Predicted Values')\n",
    "plt.ylabel('Actual Values')\n",
    "plt.title('Accuracy Score: {0}'.format(score), size = 15)\n",
    "plt.show()"
   ]
  },
  {
   "cell_type": "code",
   "execution_count": 21,
   "metadata": {},
   "outputs": [],
   "source": [
    "X = df[['age', 'sex','chol']] \n",
    "y = df.target "
   ]
  },
  {
   "cell_type": "code",
   "execution_count": 22,
   "metadata": {},
   "outputs": [
    {
     "data": {
      "text/plain": [
       "LogisticRegression(C=1.0, class_weight=None, dual=False, fit_intercept=True,\n",
       "          intercept_scaling=1, max_iter=100, multi_class='warn',\n",
       "          n_jobs=None, penalty='l2', random_state=0, solver='warn',\n",
       "          tol=0.0001, verbose=0, warm_start=False)"
      ]
     },
     "execution_count": 22,
     "metadata": {},
     "output_type": "execute_result"
    }
   ],
   "source": [
    "X_train, X_test, y_train, y_test = train_test_split(X,y, test_size=0.2, random_state=0)\n",
    "lr = LogisticRegression(random_state=0)\n",
    "lr.fit(X_train, y_train)"
   ]
  },
  {
   "cell_type": "code",
   "execution_count": 23,
   "metadata": {},
   "outputs": [
    {
     "name": "stdout",
     "output_type": "stream",
     "text": [
      "One-vs-rest\n",
      "--------------------\n",
      "Modelin eğitim verisindeki doğruluğu : 0.92\n",
      "Modelin test verisindeki doğruluğu   : 0.94\n"
     ]
    }
   ],
   "source": [
    "egitim_dogruluk = lr.score(X_train, y_train)\n",
    "test_dogruluk = lr.score(X_test, y_test)\n",
    "print('One-vs-rest', '-'*20, \n",
    "      'Modelin eğitim verisindeki doğruluğu : {:.2f}'.format(egitim_dogruluk), \n",
    "      'Modelin test verisindeki doğruluğu   : {:.2f}'.format(test_dogruluk), sep='\\n')"
   ]
  },
  {
   "cell_type": "markdown",
   "metadata": {},
   "source": [
    "#### 2. Değişik yöntemler ve sınıf oranlarını deneyerek, sınıf dengesizliğinin üstesinden gelin ve performansı en yüksek yöntemi ve sınıflar arası oranı belirleyin."
   ]
  },
  {
   "cell_type": "markdown",
   "metadata": {},
   "source": [
    "Modelin performans ölçüm metriğini değiştirmek.\n",
    "\n",
    "Veri kümesini yeniden örneklemek.\n",
    "\n",
    "Sentetik örnekler üretmek.\n",
    "\n",
    "Değişik algoritmaları denemek."
   ]
  },
  {
   "cell_type": "code",
   "execution_count": 24,
   "metadata": {},
   "outputs": [
    {
     "name": "stdout",
     "output_type": "stream",
     "text": [
      "Kalp Krizi 0   : %7.34\n",
      "Kalp Krizi 1   : %92.66\n"
     ]
    },
    {
     "data": {
      "image/png": "[encoded data removed]",
      "text/plain": [
       "<Figure size 432x288 with 1 Axes>"
      ]
     },
     "metadata": {
      "needs_background": "light"
     },
     "output_type": "display_data"
    }
   ],
   "source": [
    "sns.countplot(df.target)\n",
    "print(\"Kalp Krizi 0   : %{:.2f}\".format(sum(df.target)/len(df.target)*100))\n",
    "print(\"Kalp Krizi 1   : %{:.2f}\".format((len(df.target)-sum(df.target))/len(df.target)*100))"
   ]
  },
  {
   "cell_type": "markdown",
   "metadata": {},
   "source": [
    "##### Veri kumesi dengesiz"
   ]
  },
  {
   "cell_type": "markdown",
   "metadata": {},
   "source": [
    "### 1. Modelin performans ölçüm metriğini değiştirmek."
   ]
  },
  {
   "cell_type": "code",
   "execution_count": 25,
   "metadata": {},
   "outputs": [],
   "source": [
    "from sklearn.metrics import classification_report"
   ]
  },
  {
   "cell_type": "code",
   "execution_count": 26,
   "metadata": {},
   "outputs": [],
   "source": [
    "def model_olustur(X, y):\n",
    "    X_train, X_test, y_train, y_test = train_test_split(X, y, test_size=0.20, random_state=0, stratify = y)\n",
    "    logreg_model = LogisticRegression()\n",
    "    logreg_model.fit(X_train, y_train)\n",
    "\n",
    "    tahmin_eğitim = logreg_model.predict(X_train)\n",
    "    tahmin_test = logreg_model.predict(X_test)\n",
    "    hata_matrisi_eğitim = confusion_matrix(y_train, tahmin_eğitim)\n",
    "    hata_matrisi_test = confusion_matrix(y_test, tahmin_test)\n",
    "    print(\"Modelin doğruluk değeri : \",  logreg_model.score(X_test, y_test))\n",
    "    print(\"Eğitim veri kümesi\")\n",
    "    print(classification_report(y_train,tahmin_eğitim) )\n",
    "    print(\"Test veri kümesi\")\n",
    "    print(classification_report(y_test,tahmin_test) )\n",
    "    return  None"
   ]
  },
  {
   "cell_type": "code",
   "execution_count": 27,
   "metadata": {},
   "outputs": [
    {
     "name": "stdout",
     "output_type": "stream",
     "text": [
      "Modelin doğruluk değeri :  0.8611111111111112\n",
      "Eğitim veri kümesi\n",
      "              precision    recall  f1-score   support\n",
      "\n",
      "           0       0.98      1.00      0.99       131\n",
      "           1       1.00      0.70      0.82        10\n",
      "\n",
      "   micro avg       0.98      0.98      0.98       141\n",
      "   macro avg       0.99      0.85      0.91       141\n",
      "weighted avg       0.98      0.98      0.98       141\n",
      "\n",
      "Test veri kümesi\n",
      "              precision    recall  f1-score   support\n",
      "\n",
      "           0       0.94      0.91      0.92        33\n",
      "           1       0.25      0.33      0.29         3\n",
      "\n",
      "   micro avg       0.86      0.86      0.86        36\n",
      "   macro avg       0.59      0.62      0.60        36\n",
      "weighted avg       0.88      0.86      0.87        36\n",
      "\n"
     ]
    }
   ],
   "source": [
    "X = df[['age', 'sex', 'cp', 'trestbps', 'chol', 'fbs', 'restecg', 'thalach',\n",
    "       'exang', 'oldpeak', 'slope']] \n",
    "y = df['target']\n",
    "model_olustur(X,y)\n",
    "\n",
    "#precision: Hassasiyet\n",
    "#recall: Duyarlilik"
   ]
  },
  {
   "cell_type": "markdown",
   "metadata": {},
   "source": [
    "### 2.1 Veri kümesini yeniden örneklemek \n",
    "\n",
    "Sınıf dengesizliği durumunda daha az veriye sahip sınıfın verisini tekrar yerine koyma yöntemi ile yeniden örneklem seçerek veriyi dengeli hale getirebiliriz. Bunun için iki yöntem uygulayabiliriz.\n",
    "\n",
    "Daha az veriye sahip sınıfa ait verilerin kopyalarak sayısını artırmak.(Örneklem Artırma)\n",
    "Daha çok veriye sahip sınıfın verilerinden bazılarını silmek.(Örneklem Azaltma)"
   ]
  },
  {
   "cell_type": "code",
   "execution_count": 28,
   "metadata": {},
   "outputs": [
    {
     "data": {
      "text/plain": [
       "1    164\n",
       "0    164\n",
       "Name: target, dtype: int64"
      ]
     },
     "execution_count": 28,
     "metadata": {},
     "output_type": "execute_result"
    }
   ],
   "source": [
    "from sklearn.utils import resample \n",
    "\n",
    "Heart_disease_Yes   = df[df.target == 1]\n",
    "Heart_disease_No    = df[df.target == 0]\n",
    "\n",
    "Heart_disease_artırılmış = resample(Heart_disease_Yes,\n",
    "                                     replace = True,\n",
    "                                     n_samples = len(Heart_disease_No),\n",
    "                                     random_state = 0)\n",
    "\n",
    "artırılmıs_df = pd.concat([Heart_disease_No, Heart_disease_artırılmış])\n",
    "artırılmıs_df.target.value_counts()"
   ]
  },
  {
   "cell_type": "code",
   "execution_count": 29,
   "metadata": {},
   "outputs": [
    {
     "name": "stdout",
     "output_type": "stream",
     "text": [
      "Modelin doğruluk değeri :  0.8636363636363636\n",
      "Eğitim veri kümesi\n",
      "              precision    recall  f1-score   support\n",
      "\n",
      "           0       1.00      0.95      0.97       131\n",
      "           1       0.95      1.00      0.97       131\n",
      "\n",
      "   micro avg       0.97      0.97      0.97       262\n",
      "   macro avg       0.97      0.97      0.97       262\n",
      "weighted avg       0.97      0.97      0.97       262\n",
      "\n",
      "Test veri kümesi\n",
      "              precision    recall  f1-score   support\n",
      "\n",
      "           0       1.00      0.73      0.84        33\n",
      "           1       0.79      1.00      0.88        33\n",
      "\n",
      "   micro avg       0.86      0.86      0.86        66\n",
      "   macro avg       0.89      0.86      0.86        66\n",
      "weighted avg       0.89      0.86      0.86        66\n",
      "\n"
     ]
    }
   ],
   "source": [
    "X = artırılmıs_df[['age', 'sex', 'cp', 'trestbps', 'chol', 'fbs', 'restecg', 'thalach',\n",
    "       'exang', 'oldpeak', 'slope']]\n",
    "y = artırılmıs_df['target']\n",
    "model_olustur(X,y)"
   ]
  },
  {
   "cell_type": "code",
   "execution_count": 30,
   "metadata": {},
   "outputs": [
    {
     "name": "stdout",
     "output_type": "stream",
     "text": [
      "Modelin doğruluk değeri :  0.8611111111111112\n",
      "Eğitim veri kümesi\n",
      "              precision    recall  f1-score   support\n",
      "\n",
      "           0       0.98      1.00      0.99       131\n",
      "           1       1.00      0.70      0.82        10\n",
      "\n",
      "   micro avg       0.98      0.98      0.98       141\n",
      "   macro avg       0.99      0.85      0.91       141\n",
      "weighted avg       0.98      0.98      0.98       141\n",
      "\n",
      "Test veri kümesi\n",
      "              precision    recall  f1-score   support\n",
      "\n",
      "           0       0.94      0.91      0.92        33\n",
      "           1       0.25      0.33      0.29         3\n",
      "\n",
      "   micro avg       0.86      0.86      0.86        36\n",
      "   macro avg       0.59      0.62      0.60        36\n",
      "weighted avg       0.88      0.86      0.87        36\n",
      "\n"
     ]
    }
   ],
   "source": [
    "X = df[['age', 'sex', 'cp', 'trestbps', 'chol', 'fbs', 'restecg', 'thalach',\n",
    "       'exang', 'oldpeak', 'slope']] \n",
    "y = df['target']\n",
    "model_olustur(X,y)"
   ]
  },
  {
   "cell_type": "markdown",
   "metadata": {},
   "source": [
    "### 2.2 Örneklem Azaltmak"
   ]
  },
  {
   "cell_type": "code",
   "execution_count": 31,
   "metadata": {},
   "outputs": [
    {
     "data": {
      "text/plain": [
       "1    13\n",
       "0    13\n",
       "Name: target, dtype: int64"
      ]
     },
     "execution_count": 31,
     "metadata": {},
     "output_type": "execute_result"
    }
   ],
   "source": [
    "Heart_disease_Yes   = df[df.target == 1]\n",
    "Heart_disease_No    = df[df.target == 0]\n",
    "\n",
    "Heart_disease_azaltilmiş = resample(Heart_disease_No,\n",
    "                                     replace = True,\n",
    "                                     n_samples = len(Heart_disease_Yes),\n",
    "                                                     random_state = 0)\n",
    "\n",
    "azaltılmış_df = pd.concat([Heart_disease_Yes, Heart_disease_azaltilmiş])\n",
    "azaltılmış_df.target.value_counts()"
   ]
  },
  {
   "cell_type": "code",
   "execution_count": 32,
   "metadata": {},
   "outputs": [
    {
     "name": "stdout",
     "output_type": "stream",
     "text": [
      "Modelin doğruluk değeri :  0.8611111111111112\n",
      "Eğitim veri kümesi\n",
      "              precision    recall  f1-score   support\n",
      "\n",
      "           0       0.98      1.00      0.99       131\n",
      "           1       1.00      0.70      0.82        10\n",
      "\n",
      "   micro avg       0.98      0.98      0.98       141\n",
      "   macro avg       0.99      0.85      0.91       141\n",
      "weighted avg       0.98      0.98      0.98       141\n",
      "\n",
      "Test veri kümesi\n",
      "              precision    recall  f1-score   support\n",
      "\n",
      "           0       0.94      0.91      0.92        33\n",
      "           1       0.25      0.33      0.29         3\n",
      "\n",
      "   micro avg       0.86      0.86      0.86        36\n",
      "   macro avg       0.59      0.62      0.60        36\n",
      "weighted avg       0.88      0.86      0.87        36\n",
      "\n"
     ]
    }
   ],
   "source": [
    "X = df[['age', 'sex', 'cp', 'trestbps', 'chol', 'fbs', 'restecg', 'thalach',\n",
    "       'exang', 'oldpeak', 'slope']] \n",
    "y = df['target']\n",
    "model_olustur(X,y)"
   ]
  },
  {
   "cell_type": "markdown",
   "metadata": {},
   "source": [
    "### 3. Sentetik örnekler üretmek"
   ]
  },
  {
   "cell_type": "markdown",
   "metadata": {},
   "source": [
    "#### <font color=\"red\"> SMOTE (Synthetic Minority Over-sampling Technique) \n",
    "    \n",
    "    #### Daha önceki örneklem artırma metodunda az olan verinin birebir kopyasını oluşturuyorduk. SMOTE ise bazı değişkenleri       değiştirerek yeni veriler üretmektedir. \n",
    "    ###  Sentetik Örneklem Üretilmesinin ana aşamaları şunlardır:\n",
    "\n",
    "    ## Öncelikle baskın (veya çoğunluk) sınıfa ait veriler yok sayilir.\n",
    "    ## Her azınlık sınıfına ait veri için, en yakın komşu sayısı belirlenir. \n",
    "    ## Veri ile komşuları arasında rastgele bir yerde yeni veriler oluşturulur. Böylece azınlık sınıfının veri sayısını artırmış olur."
   ]
  },
  {
   "cell_type": "code",
   "execution_count": 33,
   "metadata": {},
   "outputs": [
    {
     "ename": "ModuleNotFoundError",
     "evalue": "No module named 'unbalanced'",
     "output_type": "error",
     "traceback": [
      "\u001b[1;31m---------------------------------------------------------------------------\u001b[0m",
      "\u001b[1;31mModuleNotFoundError\u001b[0m                       Traceback (most recent call last)",
      "\u001b[1;32m<ipython-input-33-89e1e8fe886b>\u001b[0m in \u001b[0;36m<module>\u001b[1;34m\u001b[0m\n\u001b[1;32m----> 1\u001b[1;33m \u001b[1;32mfrom\u001b[0m \u001b[0munbalanced\u001b[0m \u001b[1;32mimport\u001b[0m \u001b[0mSMOTE\u001b[0m\u001b[1;33m\u001b[0m\u001b[1;33m\u001b[0m\u001b[0m\n\u001b[0m",
      "\u001b[1;31mModuleNotFoundError\u001b[0m: No module named 'unbalanced'"
     ]
    }
   ],
   "source": [
    "from unbalanced import SMOTE"
   ]
  },
  {
   "cell_type": "code",
   "execution_count": null,
   "metadata": {},
   "outputs": [],
   "source": [
    "from imblearn import under_sampling, over_sampling"
   ]
  },
  {
   "cell_type": "code",
   "execution_count": null,
   "metadata": {},
   "outputs": [],
   "source": [
    "from imblearn.datasets import SMOTE"
   ]
  },
  {
   "cell_type": "code",
   "execution_count": null,
   "metadata": {},
   "outputs": [],
   "source": [
    "!pip install imblearn"
   ]
  },
  {
   "cell_type": "code",
   "execution_count": null,
   "metadata": {},
   "outputs": [],
   "source": [
    "from imblearn.over_sampling import SMOTE"
   ]
  },
  {
   "cell_type": "code",
   "execution_count": null,
   "metadata": {},
   "outputs": [],
   "source": [
    "y = df.target\n",
    "X = df[['age', 'sex', 'cp', 'trestbps', 'chol', 'fbs', 'restecg', 'thalach',\n",
    "       'exang', 'oldpeak', 'slope']] \n",
    "\n",
    "sm = SMOTE(random_state=0, ratio=1.0)\n",
    "X_smote, y_smote = sm.fit_sample(X, y)"
   ]
  },
  {
   "cell_type": "code",
   "execution_count": null,
   "metadata": {},
   "outputs": [],
   "source": [
    "model_olustur(X_smote, y_smote)"
   ]
  },
  {
   "cell_type": "markdown",
   "metadata": {},
   "source": [
    "#### <font color=\"red\"> ADASYN (Adaptive Syntetic Sampling)'\n",
    "    \n",
    "    ### SMOTE ile sentetik örnek, veri ile en yakın komşusu arasındaki doğru üzerinde oluşturulurken, ADASYN ile üretilen örnekler bu doğrunun çok yakınında üretilmekte ve böylece daha gerçekçi olması sağlanmaktadır."
   ]
  },
  {
   "cell_type": "code",
   "execution_count": null,
   "metadata": {},
   "outputs": [],
   "source": [
    "from imblearn.over_sampling import ADASYN"
   ]
  },
  {
   "cell_type": "code",
   "execution_count": null,
   "metadata": {},
   "outputs": [],
   "source": [
    "y = df.target\n",
    "X = df[['age', 'sex', 'cp', 'trestbps', 'chol', 'fbs', 'restecg', 'thalach',\n",
    "       'exang', 'oldpeak', 'slope']] \n",
    "\n",
    "ad = ADASYN()\n",
    "X_adasyn, y_adasyn = ad.fit_sample(X, y)\n"
   ]
  },
  {
   "cell_type": "code",
   "execution_count": null,
   "metadata": {},
   "outputs": [],
   "source": [
    "model_olustur(X_adasyn, y_adasyn)"
   ]
  },
  {
   "cell_type": "code",
   "execution_count": null,
   "metadata": {},
   "outputs": [],
   "source": []
  }
 ],
 "metadata": {
  "kernelspec": {
   "display_name": "Python 3",
   "language": "python",
   "name": "python3"
  },
  "language_info": {
   "codemirror_mode": {
    "name": "ipython",
    "version": 3
   },
   "file_extension": ".py",
   "mimetype": "text/x-python",
   "name": "python",
   "nbconvert_exporter": "python",
   "pygments_lexer": "ipython3",
   "version": "3.7.1"
  }
 },
 "nbformat": 4,
 "nbformat_minor": 2
}
