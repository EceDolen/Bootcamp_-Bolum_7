{
 "cells": [
  {
   "cell_type": "markdown",
   "metadata": {},
   "source": [
    "# <font color=\"green\"> <div align=\"center\"> SINIFLANDIRMA PROBLEMLERI 1"
   ]
  },
  {
   "cell_type": "markdown",
   "metadata": {},
   "source": [
    "#### <font color='blue'> 1.Aşağıdaki örneklerin sınıflandırma problemi mi yoksa regresyon problemi mi olduğunu belirleyiniz:\n",
    "\n",
    "#### Evin büyüklüğü veri alındığında, evin fiyatını tahmin etmek. -->  Regresyon\n",
    "\n",
    "#### Eve bakmaya gelenlerin kıyafetlerinden, kimin evi satın alma ihtimalinin yüksek veya düşük olduğu sonucuna varmak.--> Siniflndirma\n",
    "\n",
    "#### Lokasyon ve tarih gibi parametreleri kullanarak, yağmur yağma ihtimalini hesaplamak.--> Regresyon\n",
    "\n",
    "#### Eğitim, tecrübe gibi parametreleri kullanarak, kişinin maaşını tahmin etmek.--> Regresyon\n",
    "\n",
    "#### Bir insanın yaşının tahmin edilmesi.--> Siniflandirma\n",
    "\n",
    "#### Bir insanın gelirinin tahmin edilmesi.--> Regresyon\n",
    "\n",
    "#### Herhangi bir hisse senedinin fiyatının yönünün tahmin edilmesi.-->Siniflandirma\n",
    "    \n",
    "    \n",
    "    "
   ]
  },
  {
   "cell_type": "markdown",
   "metadata": {},
   "source": []
  }
 ],
 "metadata": {
  "kernelspec": {
   "display_name": "Python 3",
   "language": "python",
   "name": "python3"
  },
  "language_info": {
   "codemirror_mode": {
    "name": "ipython",
    "version": 3
   },
   "file_extension": ".py",
   "mimetype": "text/x-python",
   "name": "python",
   "nbconvert_exporter": "python",
   "pygments_lexer": "ipython3",
   "version": "3.7.1"
  }
 },
 "nbformat": 4,
 "nbformat_minor": 2
}
